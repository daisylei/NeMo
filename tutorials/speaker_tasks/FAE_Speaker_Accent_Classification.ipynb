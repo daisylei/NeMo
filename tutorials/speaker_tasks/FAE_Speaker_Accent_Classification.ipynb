{
 "cells": [
  {
   "cell_type": "markdown",
   "metadata": {},
   "source": [
    "# Foreign Accented English Classification\n"
   ]
  },
  {
   "cell_type": "code",
   "execution_count": 1,
   "metadata": {},
   "outputs": [
    {
     "name": "stdout",
     "output_type": "stream",
     "text": [
      "Get:1 http://security.ubuntu.com/ubuntu focal-security InRelease [114 kB]\n",
      "Get:2 http://security.ubuntu.com/ubuntu focal-security/main amd64 Packages [2178 kB]\n",
      "Get:3 http://archive.ubuntu.com/ubuntu focal InRelease [265 kB]\n",
      "Get:4 http://security.ubuntu.com/ubuntu focal-security/universe amd64 Packages [915 kB]\n",
      "Get:5 http://security.ubuntu.com/ubuntu focal-security/restricted amd64 Packages [1552 kB]\n",
      "Get:6 http://security.ubuntu.com/ubuntu focal-security/multiverse amd64 Packages [27.5 kB]\n",
      "Get:7 http://archive.ubuntu.com/ubuntu focal-updates InRelease [114 kB]        \n",
      "Get:8 http://archive.ubuntu.com/ubuntu focal-backports InRelease [108 kB]\n",
      "Get:9 http://archive.ubuntu.com/ubuntu focal/main amd64 Packages [1275 kB]\n",
      "Get:10 http://archive.ubuntu.com/ubuntu focal/restricted amd64 Packages [33.4 kB]\n",
      "Get:11 http://archive.ubuntu.com/ubuntu focal/universe amd64 Packages [11.3 MB]\n",
      "Get:12 http://archive.ubuntu.com/ubuntu focal/multiverse amd64 Packages [177 kB]\n",
      "Get:13 http://archive.ubuntu.com/ubuntu focal-updates/multiverse amd64 Packages [30.2 kB]\n",
      "Get:14 http://archive.ubuntu.com/ubuntu focal-updates/main amd64 Packages [2649 kB]\n",
      "Get:15 http://archive.ubuntu.com/ubuntu focal-updates/universe amd64 Packages [1212 kB]\n",
      "Get:16 http://archive.ubuntu.com/ubuntu focal-updates/restricted amd64 Packages [1671 kB]\n",
      "Get:17 http://archive.ubuntu.com/ubuntu focal-backports/main amd64 Packages [55.2 kB]\n",
      "Get:18 http://archive.ubuntu.com/ubuntu focal-backports/universe amd64 Packages [27.4 kB]\n",
      "Fetched 23.7 MB in 2s (12.1 MB/s)                             \n",
      "Reading package lists... Done\n",
      "Reading package lists... Done\n",
      "Building dependency tree       \n",
      "Reading state information... Done\n",
      "The following additional packages will be installed:\n",
      "  libao-common libao4 libid3tag0 libmad0 libsox-fmt-ao libsox-fmt-mp3\n",
      "  libsox-fmt-oss libsox-fmt-pulse\n",
      "Suggested packages:\n",
      "  libaudio2 libsndio6.1\n",
      "The following NEW packages will be installed:\n",
      "  libao-common libao4 libid3tag0 libmad0 libsox-fmt-all libsox-fmt-ao\n",
      "  libsox-fmt-mp3 libsox-fmt-oss libsox-fmt-pulse\n",
      "0 upgraded, 9 newly installed, 0 to remove and 44 not upgraded.\n",
      "Need to get 181 kB of archives.\n",
      "After this operation, 756 kB of additional disk space will be used.\n",
      "Get:1 http://archive.ubuntu.com/ubuntu focal/main amd64 libao-common all 1.2.2+20180113-1ubuntu1 [6644 B]\n",
      "Get:2 http://archive.ubuntu.com/ubuntu focal/main amd64 libao4 amd64 1.2.2+20180113-1ubuntu1 [35.1 kB]\n",
      "Get:3 http://archive.ubuntu.com/ubuntu focal/universe amd64 libid3tag0 amd64 0.15.1b-14 [31.3 kB]\n",
      "Get:4 http://archive.ubuntu.com/ubuntu focal/universe amd64 libmad0 amd64 0.15.1b-10ubuntu1 [63.1 kB]\n",
      "Get:5 http://archive.ubuntu.com/ubuntu focal/universe amd64 libsox-fmt-ao amd64 14.4.2+git20190427-2 [7468 B]\n",
      "Get:6 http://archive.ubuntu.com/ubuntu focal/universe amd64 libsox-fmt-mp3 amd64 14.4.2+git20190427-2 [15.9 kB]\n",
      "Get:7 http://archive.ubuntu.com/ubuntu focal/universe amd64 libsox-fmt-oss amd64 14.4.2+git20190427-2 [9028 B]\n",
      "Get:8 http://archive.ubuntu.com/ubuntu focal/universe amd64 libsox-fmt-pulse amd64 14.4.2+git20190427-2 [7376 B]\n",
      "Get:9 http://archive.ubuntu.com/ubuntu focal/universe amd64 libsox-fmt-all amd64 14.4.2+git20190427-2 [5104 B]\n",
      "Fetched 181 kB in 0s (13.4 MB/s)         \n",
      "Selecting previously unselected package libao-common.\n",
      "(Reading database ... 26336 files and directories currently installed.)\n",
      "Preparing to unpack .../0-libao-common_1.2.2+20180113-1ubuntu1_all.deb ...\n",
      "Unpacking libao-common (1.2.2+20180113-1ubuntu1) ...\n",
      "Selecting previously unselected package libao4:amd64.\n",
      "Preparing to unpack .../1-libao4_1.2.2+20180113-1ubuntu1_amd64.deb ...\n",
      "Unpacking libao4:amd64 (1.2.2+20180113-1ubuntu1) ...\n",
      "Selecting previously unselected package libid3tag0:amd64.\n",
      "Preparing to unpack .../2-libid3tag0_0.15.1b-14_amd64.deb ...\n",
      "Unpacking libid3tag0:amd64 (0.15.1b-14) ...\n",
      "Selecting previously unselected package libmad0:amd64.\n",
      "Preparing to unpack .../3-libmad0_0.15.1b-10ubuntu1_amd64.deb ...\n",
      "Unpacking libmad0:amd64 (0.15.1b-10ubuntu1) ...\n",
      "Selecting previously unselected package libsox-fmt-ao:amd64.\n",
      "Preparing to unpack .../4-libsox-fmt-ao_14.4.2+git20190427-2_amd64.deb ...\n",
      "Unpacking libsox-fmt-ao:amd64 (14.4.2+git20190427-2) ...\n",
      "Selecting previously unselected package libsox-fmt-mp3:amd64.\n",
      "Preparing to unpack .../5-libsox-fmt-mp3_14.4.2+git20190427-2_amd64.deb ...\n",
      "Unpacking libsox-fmt-mp3:amd64 (14.4.2+git20190427-2) ...\n",
      "Selecting previously unselected package libsox-fmt-oss:amd64.\n",
      "Preparing to unpack .../6-libsox-fmt-oss_14.4.2+git20190427-2_amd64.deb ...\n",
      "Unpacking libsox-fmt-oss:amd64 (14.4.2+git20190427-2) ...\n",
      "Selecting previously unselected package libsox-fmt-pulse:amd64.\n",
      "Preparing to unpack .../7-libsox-fmt-pulse_14.4.2+git20190427-2_amd64.deb ...\n",
      "Unpacking libsox-fmt-pulse:amd64 (14.4.2+git20190427-2) ...\n",
      "Selecting previously unselected package libsox-fmt-all:amd64.\n",
      "Preparing to unpack .../8-libsox-fmt-all_14.4.2+git20190427-2_amd64.deb ...\n",
      "Unpacking libsox-fmt-all:amd64 (14.4.2+git20190427-2) ...\n",
      "Setting up libsox-fmt-pulse:amd64 (14.4.2+git20190427-2) ...\n",
      "Setting up libsox-fmt-oss:amd64 (14.4.2+git20190427-2) ...\n",
      "Setting up libao-common (1.2.2+20180113-1ubuntu1) ...\n",
      "Setting up libid3tag0:amd64 (0.15.1b-14) ...\n",
      "Setting up libao4:amd64 (1.2.2+20180113-1ubuntu1) ...\n",
      "Setting up libmad0:amd64 (0.15.1b-10ubuntu1) ...\n",
      "Setting up libsox-fmt-ao:amd64 (14.4.2+git20190427-2) ...\n",
      "Setting up libsox-fmt-mp3:amd64 (14.4.2+git20190427-2) ...\n",
      "Setting up libsox-fmt-all:amd64 (14.4.2+git20190427-2) ...\n",
      "Processing triggers for libc-bin (2.31-0ubuntu9.9) ...\n",
      "Looking in indexes: https://pypi.org/simple, https://pypi.ngc.nvidia.com\n",
      "Requirement already satisfied: tensorflow in /opt/conda/lib/python3.8/site-packages (2.8.3)\n",
      "Requirement already satisfied: protobuf<3.20,>=3.9.2 in /opt/conda/lib/python3.8/site-packages (from tensorflow) (3.19.6)\n",
      "Requirement already satisfied: h5py>=2.9.0 in /opt/conda/lib/python3.8/site-packages (from tensorflow) (3.7.0)\n",
      "Requirement already satisfied: keras-preprocessing>=1.1.1 in /opt/conda/lib/python3.8/site-packages (from tensorflow) (1.1.2)\n",
      "Requirement already satisfied: termcolor>=1.1.0 in /opt/conda/lib/python3.8/site-packages (from tensorflow) (2.0.1)\n",
      "Requirement already satisfied: libclang>=9.0.1 in /opt/conda/lib/python3.8/site-packages (from tensorflow) (14.0.6)\n",
      "Requirement already satisfied: wrapt>=1.11.0 in /opt/conda/lib/python3.8/site-packages (from tensorflow) (1.14.1)\n",
      "Requirement already satisfied: grpcio<2.0,>=1.24.3 in /opt/conda/lib/python3.8/site-packages (from tensorflow) (1.47.0)\n",
      "Requirement already satisfied: astunparse>=1.6.0 in /opt/conda/lib/python3.8/site-packages (from tensorflow) (1.6.3)\n",
      "Requirement already satisfied: absl-py>=0.4.0 in /opt/conda/lib/python3.8/site-packages (from tensorflow) (1.1.0)\n",
      "Requirement already satisfied: setuptools in /opt/conda/lib/python3.8/site-packages (from tensorflow) (59.5.0)\n",
      "Requirement already satisfied: google-pasta>=0.1.1 in /opt/conda/lib/python3.8/site-packages (from tensorflow) (0.2.0)\n",
      "Requirement already satisfied: tensorflow-io-gcs-filesystem>=0.23.1 in /opt/conda/lib/python3.8/site-packages (from tensorflow) (0.27.0)\n",
      "Requirement already satisfied: keras<2.9,>=2.8.0rc0 in /opt/conda/lib/python3.8/site-packages (from tensorflow) (2.8.0)\n",
      "Requirement already satisfied: numpy>=1.20 in /opt/conda/lib/python3.8/site-packages (from tensorflow) (1.22.4)\n",
      "Requirement already satisfied: tensorflow-estimator<2.9,>=2.8 in /opt/conda/lib/python3.8/site-packages (from tensorflow) (2.8.0)\n",
      "Requirement already satisfied: gast>=0.2.1 in /opt/conda/lib/python3.8/site-packages (from tensorflow) (0.5.3)\n",
      "Requirement already satisfied: typing-extensions>=3.6.6 in /opt/conda/lib/python3.8/site-packages (from tensorflow) (4.3.0)\n",
      "Requirement already satisfied: six>=1.12.0 in /opt/conda/lib/python3.8/site-packages (from tensorflow) (1.16.0)\n",
      "Requirement already satisfied: flatbuffers>=1.12 in /opt/conda/lib/python3.8/site-packages (from tensorflow) (22.9.24)\n",
      "Requirement already satisfied: tensorboard<2.9,>=2.8 in /opt/conda/lib/python3.8/site-packages (from tensorflow) (2.8.0)\n",
      "Requirement already satisfied: opt-einsum>=2.3.2 in /opt/conda/lib/python3.8/site-packages (from tensorflow) (3.3.0)\n",
      "Requirement already satisfied: wheel<1.0,>=0.23.0 in /opt/conda/lib/python3.8/site-packages (from astunparse>=1.6.0->tensorflow) (0.37.1)\n",
      "Requirement already satisfied: markdown>=2.6.8 in /opt/conda/lib/python3.8/site-packages (from tensorboard<2.9,>=2.8->tensorflow) (3.3.7)\n",
      "Requirement already satisfied: google-auth-oauthlib<0.5,>=0.4.1 in /opt/conda/lib/python3.8/site-packages (from tensorboard<2.9,>=2.8->tensorflow) (0.4.6)\n",
      "Requirement already satisfied: requests<3,>=2.21.0 in /opt/conda/lib/python3.8/site-packages (from tensorboard<2.9,>=2.8->tensorflow) (2.27.1)\n",
      "Requirement already satisfied: tensorboard-plugin-wit>=1.6.0 in /opt/conda/lib/python3.8/site-packages (from tensorboard<2.9,>=2.8->tensorflow) (1.8.1)\n",
      "Requirement already satisfied: werkzeug>=0.11.15 in /opt/conda/lib/python3.8/site-packages (from tensorboard<2.9,>=2.8->tensorflow) (2.1.2)\n",
      "Requirement already satisfied: google-auth<3,>=1.6.3 in /opt/conda/lib/python3.8/site-packages (from tensorboard<2.9,>=2.8->tensorflow) (2.9.0)\n",
      "Requirement already satisfied: tensorboard-data-server<0.7.0,>=0.6.0 in /opt/conda/lib/python3.8/site-packages (from tensorboard<2.9,>=2.8->tensorflow) (0.6.1)\n",
      "Requirement already satisfied: pyasn1-modules>=0.2.1 in /opt/conda/lib/python3.8/site-packages (from google-auth<3,>=1.6.3->tensorboard<2.9,>=2.8->tensorflow) (0.2.8)\n",
      "Requirement already satisfied: cachetools<6.0,>=2.0.0 in /opt/conda/lib/python3.8/site-packages (from google-auth<3,>=1.6.3->tensorboard<2.9,>=2.8->tensorflow) (5.2.0)\n",
      "Requirement already satisfied: rsa<5,>=3.1.4 in /opt/conda/lib/python3.8/site-packages (from google-auth<3,>=1.6.3->tensorboard<2.9,>=2.8->tensorflow) (4.8)\n",
      "Requirement already satisfied: requests-oauthlib>=0.7.0 in /opt/conda/lib/python3.8/site-packages (from google-auth-oauthlib<0.5,>=0.4.1->tensorboard<2.9,>=2.8->tensorflow) (1.3.1)\n",
      "Requirement already satisfied: importlib-metadata>=4.4 in /opt/conda/lib/python3.8/site-packages (from markdown>=2.6.8->tensorboard<2.9,>=2.8->tensorflow) (4.12.0)\n",
      "Requirement already satisfied: zipp>=0.5 in /opt/conda/lib/python3.8/site-packages (from importlib-metadata>=4.4->markdown>=2.6.8->tensorboard<2.9,>=2.8->tensorflow) (3.8.0)\n",
      "Requirement already satisfied: pyasn1<0.5.0,>=0.4.6 in /opt/conda/lib/python3.8/site-packages (from pyasn1-modules>=0.2.1->google-auth<3,>=1.6.3->tensorboard<2.9,>=2.8->tensorflow) (0.4.8)\n",
      "Requirement already satisfied: idna<4,>=2.5 in /opt/conda/lib/python3.8/site-packages (from requests<3,>=2.21.0->tensorboard<2.9,>=2.8->tensorflow) (3.3)\n",
      "Requirement already satisfied: urllib3<1.27,>=1.21.1 in /opt/conda/lib/python3.8/site-packages (from requests<3,>=2.21.0->tensorboard<2.9,>=2.8->tensorflow) (1.26.12)\n",
      "Requirement already satisfied: certifi>=2017.4.17 in /opt/conda/lib/python3.8/site-packages (from requests<3,>=2.21.0->tensorboard<2.9,>=2.8->tensorflow) (2022.6.15)\n",
      "Requirement already satisfied: charset-normalizer~=2.0.0 in /opt/conda/lib/python3.8/site-packages (from requests<3,>=2.21.0->tensorboard<2.9,>=2.8->tensorflow) (2.0.12)\n",
      "Requirement already satisfied: oauthlib>=3.0.0 in /opt/conda/lib/python3.8/site-packages (from requests-oauthlib>=0.7.0->google-auth-oauthlib<0.5,>=0.4.1->tensorboard<2.9,>=2.8->tensorflow) (3.2.0)\n",
      "\u001b[33mWARNING: Running pip as the 'root' user can result in broken permissions and conflicting behaviour with the system package manager. It is recommended to use a virtual environment instead: https://pip.pypa.io/warnings/venv\u001b[0m\n",
      "Note: you may need to restart the kernel to use updated packages.\n"
     ]
    }
   ],
   "source": [
    "\"\"\"\n",
    "You can run either this notebook locally (if you have all the dependencies and a GPU) or on Google Colab.\n",
    "\n",
    "Instructions for setting up Colab are as follows:\n",
    "1. Open a new Python 3 notebook.\n",
    "2. Import this notebook from GitHub (File -> Upload Notebook -> \"GITHUB\" tab -> copy/paste GitHub URL)\n",
    "3. Connect to an instance with a GPU (Runtime -> Change runtime type -> select \"GPU\" for hardware accelerator)\n",
    "4. Run this cell to set up dependencies.\n",
    "\"\"\"\n",
    "BRANCH = 'fae/cv22'\n",
    "\n",
    "RunningInCOLAB = 'google.colab' in str(get_ipython())\n",
    "# If you're using Google Colab and not running locally, run this cell.\n",
    "if RunningInCOLAB:\n",
    "    ## Install dependencies\n",
    "    %pip install wget\n",
    "    !apt-get install sox -y\n",
    "    %pip install unidecode\n",
    "    %pip install git+https://github.com/schaltung/NeMo.git@{BRANCH}#egg=nemo_toolkit[all]\n",
    "#    from google.colab import drive\n",
    "#    drive.mount('/content/drive')\n",
    "else:\n",
    "    !apt-get update\n",
    "    !apt-get install libsox-fmt-all -y\n",
    "%pip install tensorflow"
   ]
  },
  {
   "cell_type": "markdown",
   "metadata": {},
   "source": [
    "---\n",
    "## Introduction\n"
   ]
  },
  {
   "cell_type": "markdown",
   "metadata": {},
   "source": [
    "There is an abundance of information available through spoken communication. Besides the words we speak, our voice conveys information about our gender, age, emotion, mood, health and even geo/socioeconomic background. These traits — some long-lived while others short-lived — are collectively known as paralinguistic attributes, making one’s speech a very personal signature closely related to our identity.\n",
    "\n",
    "This tutorial demonstrates how to classify a speech recording (in English) into one foreign-accent class.\n",
    "\n",
    "For this demonstration we will be using the [FAE Common Voice 2022](https://github.com/schaltung/FAE-CV) freely available on GitHub. This is a curated version of the crowdsourced corpus [Common Voice corpus](https://commonvoice.mozilla.org/en)."
   ]
  },
  {
   "cell_type": "code",
   "execution_count": 2,
   "metadata": {},
   "outputs": [
    {
     "name": "stderr",
     "output_type": "stream",
     "text": [
      "[NeMo W 2022-10-03 18:09:41 optimizers:77] Could not import distributed_fused_adam optimizer from Apex\n"
     ]
    }
   ],
   "source": [
    "RunningInCOLAB = 'google.colab' in str(get_ipython())  # reload in case kernel was reloaded.\n",
    "BRANCH = 'fae/cv22'\n",
    "\n",
    "import warnings\n",
    "warnings.simplefilter(action=\"ignore\", category=FutureWarning)\n",
    "import datetime\n",
    "\n",
    "import os\n",
    "import json\n",
    "import wget\n",
    "from pathlib import Path\n",
    "\n",
    "import numpy as np\n",
    "import pandas as pd\n",
    "from sklearn.metrics import confusion_matrix, ConfusionMatrixDisplay\n",
    "from tqdm import tqdm\n",
    "from multiprocessing import Pool\n",
    "import sox\n",
    "\n",
    "from omegaconf import OmegaConf\n",
    "from nemo.collections.asr.models import EncDecSpeakerLabelModel\n",
    "from matplotlib import pyplot as plt"
   ]
  },
  {
   "cell_type": "markdown",
   "metadata": {},
   "source": [
    "---\n",
    "## Data Preparation"
   ]
  },
  {
   "cell_type": "markdown",
   "metadata": {},
   "source": [
    "### Locate the Common Voice corpus.\n",
    "\n",
    "1. Confirm there is a local copy of Common-Voice mounted on `/corpora/{CORPUS_NAME}/{LANGUAGE}`\n",
    "2. Download a fresh copy otherwise."
   ]
  },
  {
   "cell_type": "code",
   "execution_count": 3,
   "metadata": {},
   "outputs": [
    {
     "name": "stdout",
     "output_type": "stream",
     "text": [
      "Found existing clips folder: /corpora/cv-corpus-10.0-2022-07-04/en/clips\n"
     ]
    }
   ],
   "source": [
    "# Local copy of Common-Voice corpus.\n",
    "ROOT = os.getcwd()\n",
    "#\n",
    "# Switch the ROOT to the mounted google-drive if available.\n",
    "if RunningInCOLAB and os.path.exists(os.path.join(ROOT, 'drive', 'MyDrive')):\n",
    "  ROOT = os.path.join(ROOT, 'drive', 'MyDrive')\n",
    "#\n",
    "data_dir = os.path.join(ROOT, \"data\")\n",
    "os.makedirs(data_dir, exist_ok=True)\n",
    "#\n",
    "# Current version of Mozzilla Common-Voice (English).\n",
    "CORPUS_NAME = 'cv-corpus-10.0-2022-07-04'\n",
    "LANGUAGE = 'en'\n",
    "#\n",
    "DIR_CORPORA = f'/corpora/{CORPUS_NAME}/{LANGUAGE}'\n",
    "clips_dir = f'{DIR_CORPORA}/clips'\n",
    "\n",
    "if os.path.exists(clips_dir):\n",
    "    print(f\"Found existing clips folder: {clips_dir}\")\n",
    "elif RunningInCOLAB:\n",
    "    import tarfile\n",
    "    CORPUS_NAME = 'cv-corpus-10.0-2022-07-04' # fixed to this version.\n",
    "    DIR_CORPORA = f'/content/{CORPUS_NAME}/{LANGUAGE}'\n",
    "    clips_dir = f'{DIR_CORPORA}/clips'\n",
    "    !gdown 1_r-XW0E3vJN9X3dYb6n-O-3RleA5LzUF\n",
    "    !bunzip2 /content/{CORPUS_NAME}_faecv22.tar.bz2\n",
    "    tar = tarfile.open(f'{CORPUS_NAME}_faecv22.tar')\n",
    "    tar.extractall('/content')\n",
    "    tar.close()\n",
    "    os.remove(f'{CORPUS_NAME}_faecv22.tar')\n",
    "    !mv /content/cv-corpus-10.0-2022-07-04/en/fae-cv_data_wavs/ /content/data/wavs\n",
    "else:\n",
    "    COMMON_VOICE_URL = f\"https://voice-prod-bundler-ee1969a6ce8178826482b88e843c335139bd3fb4.s3.amazonaws.com/{CORPUS_NAME}/{CORPUS_NAME}-{LANGUAGE}.tar.gz\"\n",
    "    print(f\"Could not find Common Voice, downloading corpus...\")\n",
    "    import sys, subprocess, tarfile\n",
    "    output_archive_filename = f\"{data_dir}/cv-en.tar.gz\"\n",
    "    commands = [\n",
    "        \"wget\",\n",
    "        \"--user-agent\",\n",
    "        '\"Mozilla/5.0 (Windows NT 10.0; WOW64) '\n",
    "        'AppleWebKit/537.36 (KHTML, like Gecko) Chrome/51.0.2704.103 Safari/537.36\"',\n",
    "        \"-O\",\n",
    "        output_archive_filename,\n",
    "        f\"{COMMON_VOICE_URL}\",\n",
    "    ]\n",
    "    commands = \" \".join(commands)\n",
    "    subprocess.run(\n",
    "        commands, shell=True, capture_output=False\n",
    "    )\n",
    "    tar = tarfile.open(output_archive_filename)\n",
    "    try:\n",
    "        tar.extractall(DIR_CORPORA)\n",
    "        print(f\"extracted to: {DIR_CORPORA}\")\n",
    "    except:\n",
    "        print(f\"unable to extract to: {DIR_CORPORA}, trying {data_dir} instead.\")\n",
    "        DIR_CORPORA = data_dir\n",
    "        clips_dir = f'{DIR_CORPORA}/clips'\n",
    "        tar.extractall(DIR_CORPORA)\n",
    "        print(f\"extracted to: {DIR_CORPORA}\")\n",
    "    tar.close()\n",
    "    os.remove(output_archive_filename)"
   ]
  },
  {
   "cell_type": "markdown",
   "metadata": {},
   "source": [
    "### Download the FAE-CV22 files.\n",
    "\n",
    "Fetch the a copy of the list files and load them as data frames."
   ]
  },
  {
   "cell_type": "markdown",
   "metadata": {},
   "source": [
    "#### Fetch list files from FACE-CV Github.\n",
    "\n",
    "This version of FAE-CV is from `2022-09-17_21-17-44`. See [config.yaml](https://raw.githubusercontent.com/schaltung/FAE-CV/main/logs/2022-09-17_21-17-44/config.yaml) for configuration criteria."
   ]
  },
  {
   "cell_type": "code",
   "execution_count": 4,
   "metadata": {},
   "outputs": [
    {
     "name": "stdout",
     "output_type": "stream",
     "text": [
      "downloading https://raw.githubusercontent.com/schaltung/FAE-CV/main/logs/2022-09-17_21-17-44/train.tsv\n",
      "downloading https://raw.githubusercontent.com/schaltung/FAE-CV/main/logs/2022-09-17_21-17-44/test.tsv\n",
      "downloading https://raw.githubusercontent.com/schaltung/FAE-CV/main/logs/2022-09-17_21-17-44/dev.tsv\n",
      "downloading https://raw.githubusercontent.com/schaltung/FAE-CV/main/logs/2022-09-17_21-17-44/eval.tsv\n"
     ]
    }
   ],
   "source": [
    "# Download the FAE-CV22 list files.\n",
    "# target location to store the slected wav files.\n",
    "wavs_dir =  os.path.join(data_dir, \"wavs\")\n",
    "fae_cv_url = \"https://raw.githubusercontent.com/schaltung/FAE-CV/main/logs/2022-09-17_21-17-44\"\n",
    "\n",
    "os.makedirs(wavs_dir, exist_ok=True)\n",
    "\n",
    "for tsv_file in ('train.tsv', 'test.tsv', 'dev.tsv', 'eval.tsv'):\n",
    "    tsv_path = os.path.join(data_dir, tsv_file)\n",
    "    tsv_url = f'{fae_cv_url}/{tsv_file}'\n",
    "    if not os.path.exists(tsv_path):\n",
    "        print(f'downloading {tsv_url}')\n",
    "        wget.download(tsv_url, data_dir)"
   ]
  },
  {
   "cell_type": "markdown",
   "metadata": {},
   "source": [
    "#### Load the TSV fileas as dataframes.\n",
    "\n",
    "The original audio format is `mp3`. We will be transforming it to 16-bit linear PCM `wav` at 16kHz sampling rate."
   ]
  },
  {
   "cell_type": "code",
   "execution_count": 5,
   "metadata": {},
   "outputs": [],
   "source": [
    "colnames = ['client_id', 'path', 'sentence', 'up_votes', 'down_votes', 'age', 'gender', 'accents', 'locale', 'segment', 'isfemale', 'label', 'duration']\n",
    "#\n",
    "trainDF = pd.read_csv(os.path.join(data_dir, 'train.tsv'), sep='\\t', names=colnames)\n",
    "devDF = pd.read_csv(os.path.join(data_dir, 'dev.tsv'), sep='\\t', names=colnames)\n",
    "testDF = pd.read_csv(os.path.join(data_dir, 'test.tsv'), sep='\\t', names=colnames)\n",
    "evalDF = pd.read_csv(os.path.join(data_dir, 'eval.tsv'), sep='\\t', names=colnames)\n",
    "\n",
    "Path(wavs_dir).mkdir(parents=True, exist_ok=True)\n",
    "trainDF['wavpath'] = trainDF.path.apply(lambda x : os.path.join(wavs_dir, x.replace('.mp3','.wav')))\n",
    "devDF['wavpath'] = devDF.path.apply(lambda x : os.path.join(wavs_dir, x.replace('.mp3','.wav')))\n",
    "testDF['wavpath'] = testDF.path.apply(lambda x : os.path.join(wavs_dir, x.replace('.mp3','.wav')))\n",
    "evalDF['wavpath'] = evalDF.path.apply(lambda x : os.path.join(wavs_dir, x.replace('.mp3','.wav')))\n"
   ]
  },
  {
   "cell_type": "code",
   "execution_count": 6,
   "metadata": {},
   "outputs": [
    {
     "name": "stdout",
     "output_type": "stream",
     "text": [
      "14\n",
      "11\n"
     ]
    }
   ],
   "source": [
    "# We know eval.tsv has out-of-set labels. \n",
    "# --> map the out-of-set labels to 'us'.\n",
    "print(evalDF.label.nunique())\n",
    "std_label_set = testDF.label.unique()\n",
    "evalDF.loc[:, 'label'] = evalDF.label.apply(lambda x : x if x in std_label_set else 'us')\n",
    "print(evalDF.label.nunique())\n",
    "\n",
    "# # Alternatively, we could have removed the entries with out-of-set labels:\n",
    "# print(evalDF.label.nunique())\n",
    "# std_label_set = testDF.label.unique()\n",
    "# evalDF = evalDF[evalDF.label.isin(std_label_set)]\n",
    "# print(evalDF.label.nunique())"
   ]
  },
  {
   "cell_type": "markdown",
   "metadata": {},
   "source": [
    "### Transform recordings from MP3 to 16-bit linear-PCM 16kHz wav files.\n",
    "\n",
    "* Downsampled to 16kHz\n",
    "* Gain normalize."
   ]
  },
  {
   "cell_type": "code",
   "execution_count": 7,
   "metadata": {},
   "outputs": [
    {
     "name": "stdout",
     "output_type": "stream",
     "text": [
      "Converting mp3 --> wav... this may take a couple of minutes...\n",
      "...done!\n"
     ]
    }
   ],
   "source": [
    "def au_transform(x, tfm=sox.Transformer()):\n",
    "    tfm.set_output_format(rate=16000)\n",
    "    tfm.gain(normalize=True)\n",
    "    in_filepath = os.path.join(clips_dir, x)\n",
    "    out_filepath = os.path.join(wavs_dir, x.replace('.mp3','.wav'))\n",
    "    status = tfm.build(input_filepath=in_filepath, output_filepath=out_filepath)\n",
    "    return status\n",
    "\n",
    "def get_duration(path):\n",
    "    return sox.file_info.duration(path)    \n",
    "#\n",
    "if RunningInCOLAB:\n",
    "  print('Running in colab. wav files already downloaded.')\n",
    "else:\n",
    "  print('Converting mp3 --> wav... this may take a couple of minutes...')\n",
    "  MAX_NB_CPU_WORKERS = max(2,min(20, int(os.cpu_count() / 4)))\n",
    "  with Pool(MAX_NB_CPU_WORKERS) as p:\n",
    "      p.map( au_transform,  trainDF.path )\n",
    "      p.map( au_transform,  devDF.path )\n",
    "      p.map( au_transform,  testDF.path )\n",
    "      p.map( au_transform,  evalDF.path )\n",
    "  print('...done!')"
   ]
  },
  {
   "cell_type": "code",
   "execution_count": 8,
   "metadata": {},
   "outputs": [
    {
     "name": "stdout",
     "output_type": "stream",
     "text": [
      "Updating the duration of new wav files.... it may take a minute...\n",
      "...done!\n"
     ]
    }
   ],
   "source": [
    "# refresh the duration info after converting to wav as it may have drifted a little.\n",
    "print('Updating the duration of new wav files.... it may take a minute...')\n",
    "trainDF['wav_duration'] = trainDF.wavpath.apply(get_duration)\n",
    "devDF['wav_duration'] = devDF.wavpath.apply(get_duration)\n",
    "testDF['wav_duration'] = testDF.wavpath.apply(get_duration)\n",
    "evalDF['wav_duration'] = evalDF.wavpath.apply(get_duration)\n",
    "print('...done!')"
   ]
  },
  {
   "cell_type": "markdown",
   "metadata": {},
   "source": [
    "### Create manifest files.\n",
    "\n",
    "The schema needed is:\n",
    "```\n",
    "{\"audio_filepath\": str, \"offset\": float, \"duration\": float, \"label\": str}\n",
    "```"
   ]
  },
  {
   "cell_type": "code",
   "execution_count": 9,
   "metadata": {},
   "outputs": [],
   "source": [
    "data_dir = 'data'\n",
    "\n",
    "train_manifest = os.path.join(data_dir,'manifest-train.json')\n",
    "validation_manifest = os.path.join(data_dir,'manifest-dev.json')\n",
    "test_manifest = os.path.join(data_dir,'manifest-test.json')\n",
    "eval_manifest = os.path.join(data_dir,'manifest-eval.json')"
   ]
  },
  {
   "cell_type": "code",
   "execution_count": 10,
   "metadata": {},
   "outputs": [],
   "source": [
    "manifest_filesL = (train_manifest, validation_manifest, test_manifest, eval_manifest )\n",
    "dfL = (trainDF, devDF, testDF, evalDF)\n",
    "\n",
    "# Rename columns\n",
    "name_mappingD = dict(wavpath='audio_filepath', client_id='speaker', wav_duration='duration')\n",
    "\n",
    "for manifest_filepath,df in zip(manifest_filesL, dfL):\n",
    "    df[['wavpath', 'client_id', 'wav_duration', 'label']].rename(name_mappingD, axis=1).to_json(manifest_filepath, orient='records', lines=True)"
   ]
  },
  {
   "cell_type": "markdown",
   "metadata": {},
   "source": [
    "# ECAPA model"
   ]
  },
  {
   "cell_type": "markdown",
   "metadata": {},
   "source": [
    "## Fine-tuning. \n",
    "### Repurpose a pre-trained Speaker-Recongition DNN model for Speaker-Accent Classification.\n",
    "\n",
    "We finetune a pretrained Speaker-Recognition model (published on NGC) to accent classification. \n",
    "\n",
    "Note: All the following steps are just for explanation of each section, but one can use the provided [FAE recognition script](https://github.com/schaltung/NeMo/blob/fae22/examples/speaker_tasks/paralinguistics/speaker_fae_reco.py) to launch training in the command line."
   ]
  },
  {
   "cell_type": "code",
   "execution_count": 11,
   "metadata": {},
   "outputs": [
    {
     "name": "stderr",
     "output_type": "stream",
     "text": [
      "Global seed set to 42\n"
     ]
    },
    {
     "data": {
      "text/plain": [
       "42"
      ]
     },
     "execution_count": 11,
     "metadata": {},
     "output_type": "execute_result"
    }
   ],
   "source": [
    "import torch\n",
    "import pytorch_lightning as pl\n",
    "from pytorch_lightning import seed_everything\n",
    "from nemo.collections.asr.models import EncDecSpeakerLabelModel\n",
    "from nemo.utils.exp_manager import exp_manager\n",
    "seed_everything(42)"
   ]
  },
  {
   "cell_type": "markdown",
   "metadata": {},
   "source": [
    "### Basic Configuration\n",
    "The ECAPA model is defined in a config file which declares multiple important sections.\n",
    "\n",
    "They are:\n",
    "\n",
    "1) model: All arguments that will relate to the Model - preprocessors, encoder, decoder, optimizer and schedulers, datasets, and any other related information\n",
    "\n",
    "2) trainer: Any argument to be passed to PyTorch Lightning"
   ]
  },
  {
   "cell_type": "code",
   "execution_count": 12,
   "metadata": {},
   "outputs": [],
   "source": [
    "!mkdir -p conf\n",
    "!wget -q -P conf https://raw.githubusercontent.com/schaltung/NeMo/$BRANCH/examples/speaker_tasks/paralinguistics/conf/ecapa_tdnn-finetune-cv.yaml\n",
    "MODEL_CONFIG = 'conf/ecapa_tdnn-finetune-cv.yaml'\n",
    "finetune_config = OmegaConf.load(MODEL_CONFIG)\n",
    "#print(OmegaConf.to_yaml(finetune_config))"
   ]
  },
  {
   "cell_type": "markdown",
   "metadata": {},
   "source": [
    "### Add the datasets (manifests) to the config.\n",
    "\n",
    "The config dictionaries called `train_ds`, `validation_ds` and `test_ds` are configurations used to setup the Dataset and DataLoaders of the corresponding config."
   ]
  },
  {
   "cell_type": "code",
   "execution_count": 13,
   "metadata": {},
   "outputs": [
    {
     "name": "stdout",
     "output_type": "stream",
     "text": [
      "manifest_filepath: ???\n",
      "sample_rate: ${model.sample_rate}\n",
      "labels: null\n",
      "batch_size: 64\n",
      "shuffle: true\n",
      "augmentor:\n",
      "  speed:\n",
      "    prob: 0.5\n",
      "    sr: ${model.sample_rate}\n",
      "    resample_type: kaiser_fast\n",
      "    min_speed_rate: 0.95\n",
      "    max_speed_rate: 1.05\n",
      "\n",
      "manifest_filepath: ???\n",
      "sample_rate: ${model.sample_rate}\n",
      "labels: null\n",
      "batch_size: 128\n",
      "shuffle: false\n",
      "\n"
     ]
    }
   ],
   "source": [
    "print(OmegaConf.to_yaml(finetune_config.model.train_ds))\n",
    "print(OmegaConf.to_yaml(finetune_config.model.validation_ds))"
   ]
  },
  {
   "cell_type": "markdown",
   "metadata": {},
   "source": [
    "You will often notice that some configs have `???` in place of paths. This is used as a placeholder so that the user can change the value at a later time.\n",
    "\n",
    "Let's add the paths to the manifests to the config above."
   ]
  },
  {
   "cell_type": "code",
   "execution_count": 14,
   "metadata": {},
   "outputs": [
    {
     "data": {
      "text/plain": [
       "{'manifest_filepath': '???', 'sample_rate': '${model.sample_rate}', 'labels': None, 'batch_size': 128, 'shuffle': False}"
      ]
     },
     "execution_count": 14,
     "metadata": {},
     "output_type": "execute_result"
    }
   ],
   "source": [
    "finetune_config.model.train_ds.manifest_filepath = train_manifest\n",
    "finetune_config.model.validation_ds.manifest_filepath = validation_manifest\n",
    "finetune_config.model.pop('test_ds', None)"
   ]
  },
  {
   "cell_type": "markdown",
   "metadata": {},
   "source": [
    "Note: Since we are training speaker embedding extractor model for verification we do not add test_ds dataset. To include it add it to config and replace manifest file as \n",
    "`config.model.test_ds.manifest_filepath = test_manifest`\n",
    "\n",
    "Also as we are training on FAE-CV22 dataset, there are 11 accent labels in training, and we need to set this in the decoder config."
   ]
  },
  {
   "cell_type": "code",
   "execution_count": 15,
   "metadata": {},
   "outputs": [
    {
     "name": "stdout",
     "output_type": "stream",
     "text": [
      "11\n"
     ]
    }
   ],
   "source": [
    "print(trainDF.label.nunique())\n",
    "finetune_config.model.decoder.num_classes = trainDF.label.nunique()"
   ]
  },
  {
   "cell_type": "markdown",
   "metadata": {},
   "source": [
    "### Setup a Trainer and Experiment-Logger"
   ]
  },
  {
   "cell_type": "markdown",
   "metadata": {},
   "source": [
    "Note: If one would like to finetune from a PTL checkpoint (instead of the NGC public model), `init_from_pretrained_model` in config should be replaced with `init_from_nemo_model` and need to provide the path to checkpoint. "
   ]
  },
  {
   "cell_type": "markdown",
   "metadata": {},
   "source": [
    "So far we have set up the data manifest files and changed the decoder required for finetune. We now just need to create a trainer and start training with a smaller learning rate for fewer epochs."
   ]
  },
  {
   "cell_type": "code",
   "execution_count": 16,
   "metadata": {},
   "outputs": [
    {
     "name": "stdout",
     "output_type": "stream",
     "text": [
      "devices: 1\n",
      "max_epochs: 5\n",
      "max_steps: -1\n",
      "num_nodes: 1\n",
      "accelerator: gpu\n",
      "accumulate_grad_batches: 1\n",
      "deterministic: false\n",
      "enable_checkpointing: false\n",
      "logger: false\n",
      "log_every_n_steps: 1\n",
      "val_check_interval: 1.0\n",
      "\n"
     ]
    }
   ],
   "source": [
    "# Setup the new trainer object\n",
    "# Let us modify some trainer configs for this demo\n",
    "# Checks if we have GPU available and uses it\n",
    "accelerator = 'gpu' if torch.cuda.is_available() else 'cpu'\n",
    "\n",
    "trainer_config = finetune_config.trainer\n",
    "trainer_config.accelerator = accelerator\n",
    "\n",
    "trainer_config.pop('strategy',None)\n",
    "\n",
    "# DBG:\n",
    "trainer_config.max_epochs = 5\n",
    "trainer_config.devices = 1\n",
    "if RunningInCOLAB:\n",
    "  print('adjusting configuration for colab.')\n",
    "  finetune_config.model.train_ds.batch_size = 24\n",
    "  finetune_config.model.validation_ds.batch_size = 24\n",
    "  finetune_config.exp_manager.exp_dir = '/content/nemo_experiments'\n",
    "\n",
    "print(OmegaConf.to_yaml(trainer_config))"
   ]
  },
  {
   "cell_type": "code",
   "execution_count": 17,
   "metadata": {},
   "outputs": [
    {
     "name": "stderr",
     "output_type": "stream",
     "text": [
      "GPU available: True (cuda), used: True\n",
      "TPU available: False, using: 0 TPU cores\n",
      "IPU available: False, using: 0 IPUs\n",
      "HPU available: False, using: 0 HPUs\n",
      "`Trainer(val_check_interval=1.0)` was configured so validation will run at the end of the training epoch..\n"
     ]
    }
   ],
   "source": [
    "trainer_finetune = pl.Trainer(**trainer_config)"
   ]
  },
  {
   "cell_type": "markdown",
   "metadata": {},
   "source": [
    "### Setting up a NeMo Experiment\n",
    "NeMo has an experiment manager that handles logging and checkpointing for us, so let's use it !"
   ]
  },
  {
   "cell_type": "code",
   "execution_count": 18,
   "metadata": {},
   "outputs": [
    {
     "name": "stdout",
     "output_type": "stream",
     "text": [
      "[NeMo I 2022-10-03 18:18:31 exp_manager:286] Experiments will be logged at /workspace/nemo_experiments/FAE-ecapa-finetune-CV/2022-10-03_18-18-31\n",
      "[NeMo I 2022-10-03 18:18:31 exp_manager:660] TensorboardLogger has been set up\n"
     ]
    },
    {
     "name": "stderr",
     "output_type": "stream",
     "text": [
      "[NeMo W 2022-10-03 18:18:31 nemo_logging:349] /opt/conda/lib/python3.8/site-packages/pytorch_lightning/trainer/trainer.py:2274: LightningDeprecationWarning: `Trainer.weights_save_path` has been deprecated in v1.6 and will be removed in v1.8.\n",
      "      rank_zero_deprecation(\"`Trainer.weights_save_path` has been deprecated in v1.6 and will be removed in v1.8.\")\n",
      "    \n",
      "[NeMo W 2022-10-03 18:18:31 exp_manager:900] The checkpoint callback was told to monitor a validation value and trainer's max_steps was set to -1. Please ensure that max_steps will run for at least 1 epochs to ensure that checkpointing will not error out.\n"
     ]
    },
    {
     "name": "stdout",
     "output_type": "stream",
     "text": [
      "/workspace/nemo_experiments/FAE-ecapa-finetune-CV/2022-10-03_18-18-31\n"
     ]
    }
   ],
   "source": [
    "log_dir_finetune = exp_manager(trainer_finetune, finetune_config.get(\"exp_manager\", None))\n",
    "print(log_dir_finetune)"
   ]
  },
  {
   "cell_type": "markdown",
   "metadata": {},
   "source": [
    "Create an instance of the model `speaker_model`."
   ]
  },
  {
   "cell_type": "code",
   "execution_count": 19,
   "metadata": {},
   "outputs": [
    {
     "name": "stdout",
     "output_type": "stream",
     "text": [
      "[NeMo I 2022-10-03 18:18:42 collections:297] Filtered duration for loading collection is 0.000000.\n",
      "[NeMo I 2022-10-03 18:18:42 collections:301] # 7272 files loaded accounting to # 11 labels\n"
     ]
    },
    {
     "name": "stderr",
     "output_type": "stream",
     "text": [
      "[NeMo W 2022-10-03 18:18:42 label_models:159] Total number of 11 found in all the manifest files.\n"
     ]
    },
    {
     "name": "stdout",
     "output_type": "stream",
     "text": [
      "[NeMo I 2022-10-03 18:18:42 collections:297] Filtered duration for loading collection is 0.000000.\n",
      "[NeMo I 2022-10-03 18:18:42 collections:301] # 7272 files loaded accounting to # 11 labels\n",
      "[NeMo I 2022-10-03 18:18:42 collections:297] Filtered duration for loading collection is 0.000000.\n",
      "[NeMo I 2022-10-03 18:18:42 collections:301] # 916 files loaded accounting to # 11 labels\n",
      "[NeMo I 2022-10-03 18:18:42 features:223] PADDING: 16\n",
      "[NeMo I 2022-10-03 18:18:42 label_models:102] loss is Angular Softmax\n"
     ]
    },
    {
     "name": "stderr",
     "output_type": "stream",
     "text": [
      "[NeMo W 2022-10-03 18:18:42 nemo_logging:349] /opt/conda/lib/python3.8/site-packages/torchmetrics/utilities/prints.py:36: UserWarning: Torchmetrics v0.9 introduced a new argument class property called `full_state_update` that has\n",
      "                    not been set for this class (TopKClassificationAccuracy). The property determines if `update` by\n",
      "                    default needs access to the full metric state. If this is not the case, significant speedups can be\n",
      "                    achieved and we recommend setting this to `False`.\n",
      "                    We provide an checking function\n",
      "                    `from torchmetrics.utilities import check_forward_full_state_property`\n",
      "                    that can be used to check if the `full_state_update=True` (old and potential slower behaviour,\n",
      "                    default for now) or if `full_state_update=False` can be used safely.\n",
      "                    \n",
      "      warnings.warn(*args, **kwargs)\n",
      "    \n",
      "[NeMo W 2022-10-03 18:18:42 nemo_logging:349] /opt/conda/lib/python3.8/site-packages/torchmetrics/utilities/prints.py:36: UserWarning: Metric `AUROC` will save all targets and predictions in buffer. For large datasets this may lead to large memory footprint.\n",
      "      warnings.warn(*args, **kwargs)\n",
      "    \n"
     ]
    }
   ],
   "source": [
    "speaker_model = EncDecSpeakerLabelModel(cfg=finetune_config.model, \\\n",
    "    trainer=trainer_finetune)"
   ]
  },
  {
   "cell_type": "code",
   "execution_count": 20,
   "metadata": {},
   "outputs": [
    {
     "name": "stdout",
     "output_type": "stream",
     "text": [
      "[NeMo I 2022-10-03 18:18:49 cloud:66] Downloading from: https://api.ngc.nvidia.com/v2/models/nvidia/nemo/ecapa_tdnn/versions/v1/files/ecapa_tdnn.nemo to /root/.cache/torch/NeMo/NeMo_1.12.0rc0/ecapa_tdnn/20b7839bda482a0b7d4b3390c337d2bc/ecapa_tdnn.nemo\n",
      "[NeMo I 2022-10-03 18:18:54 common:910] Instantiating model from pre-trained checkpoint\n"
     ]
    },
    {
     "name": "stderr",
     "output_type": "stream",
     "text": [
      "[NeMo W 2022-10-03 18:18:55 modelPT:142] If you intend to do training or fine-tuning, please call the ModelPT.setup_training_data() method and provide a valid configuration file to setup the train data loader.\n",
      "    Train config : \n",
      "    manifest_filepath: /manifests/combined_fisher_swbd_voxceleb12_librispeech/train.json\n",
      "    sample_rate: 16000\n",
      "    labels: null\n",
      "    batch_size: 64\n",
      "    shuffle: true\n",
      "    time_length: 3\n",
      "    augmentor:\n",
      "      noise:\n",
      "        manifest_path: /manifests/noise/rir_noise_manifest.json\n",
      "        prob: 0.5\n",
      "        min_snr_db: 0\n",
      "        max_snr_db: 15\n",
      "      speed:\n",
      "        prob: 0.5\n",
      "        sr: 16000\n",
      "        resample_type: kaiser_fast\n",
      "        min_speed_rate: 0.95\n",
      "        max_speed_rate: 1.05\n",
      "    num_workers: 15\n",
      "    pin_memory: true\n",
      "    \n",
      "[NeMo W 2022-10-03 18:18:55 modelPT:149] If you intend to do validation, please call the ModelPT.setup_validation_data() or ModelPT.setup_multiple_validation_data() method and provide a valid configuration file to setup the validation data loader(s). \n",
      "    Validation config : \n",
      "    manifest_filepath: /manifests/combined_fisher_swbd_voxceleb12_librispeech/dev.json\n",
      "    sample_rate: 16000\n",
      "    labels: null\n",
      "    batch_size: 64\n",
      "    shuffle: false\n",
      "    time_length: 3\n",
      "    num_workers: 15\n",
      "    pin_memory: true\n",
      "    \n"
     ]
    },
    {
     "name": "stdout",
     "output_type": "stream",
     "text": [
      "[NeMo I 2022-10-03 18:18:55 features:223] PADDING: 16\n",
      "[NeMo I 2022-10-03 18:18:55 label_models:102] loss is Angular Softmax\n",
      "[NeMo I 2022-10-03 18:18:55 save_restore_connector:243] Model EncDecSpeakerLabelModel was successfully restored from /root/.cache/torch/NeMo/NeMo_1.12.0rc0/ecapa_tdnn/20b7839bda482a0b7d4b3390c337d2bc/ecapa_tdnn.nemo.\n",
      "[NeMo I 2022-10-03 18:18:55 modelPT:974] Model checkpoint partially restored from pretrained checkpoint with name `ecapa_tdnn`\n",
      "[NeMo I 2022-10-03 18:18:55 modelPT:976] The following parameters were excluded from loading from pretrained checkpoint with name `ecapa_tdnn` : ['decoder.final.weight']\n",
      "[NeMo I 2022-10-03 18:18:55 modelPT:979] Make sure that this is what you wanted!\n"
     ]
    }
   ],
   "source": [
    "# Download pretrained model from NGC.\n",
    "speaker_model.maybe_init_from_pretrained_checkpoint(finetune_config)"
   ]
  },
  {
   "cell_type": "markdown",
   "metadata": {},
   "source": [
    "### Execute finetuning.\n",
    "\n",
    "In the config, we keep weights of preprocessor and encoder, and attach a new decoder as mentioned in above section to match num of classes of new data"
   ]
  },
  {
   "cell_type": "code",
   "execution_count": 21,
   "metadata": {},
   "outputs": [
    {
     "name": "stderr",
     "output_type": "stream",
     "text": [
      "LOCAL_RANK: 0 - CUDA_VISIBLE_DEVICES: [0,1,2,3]\n"
     ]
    },
    {
     "name": "stdout",
     "output_type": "stream",
     "text": [
      "[NeMo I 2022-10-03 18:19:01 modelPT:597] Optimizer config = AdamW (\n",
      "    Parameter Group 0\n",
      "        amsgrad: False\n",
      "        betas: (0.9, 0.999)\n",
      "        capturable: False\n",
      "        eps: 1e-08\n",
      "        foreach: None\n",
      "        lr: 1e-05\n",
      "        maximize: False\n",
      "        weight_decay: 0.0002\n",
      "    )\n",
      "[NeMo I 2022-10-03 18:19:01 lr_scheduler:910] Scheduler \"<nemo.core.optim.lr_scheduler.CosineAnnealing object at 0x7f13902cbd30>\" \n",
      "    will be used during training (effective maximum steps = 570) - \n",
      "    Parameters : \n",
      "    (warmup_ratio: 0.5\n",
      "    min_lr: 0\n",
      "    max_steps: 570\n",
      "    )\n"
     ]
    },
    {
     "name": "stderr",
     "output_type": "stream",
     "text": [
      "\n",
      "  | Name            | Type                              | Params\n",
      "----------------------------------------------------------------------\n",
      "0 | preprocessor    | AudioToMelSpectrogramPreprocessor | 0     \n",
      "1 | encoder         | ECAPAEncoder                      | 18.1 M\n",
      "2 | decoder         | SpeakerDecoder                    | 2.8 M \n",
      "3 | loss            | AngularSoftmaxLoss                | 0     \n",
      "4 | _accuracy       | TopKClassificationAccuracy        | 0     \n",
      "5 | _macro_accuracy | Accuracy                          | 0     \n",
      "6 | _auroc          | AUROC                             | 0     \n",
      "----------------------------------------------------------------------\n",
      "20.9 M    Trainable params\n",
      "0         Non-trainable params\n",
      "20.9 M    Total params\n",
      "83.676    Total estimated model params size (MB)\n"
     ]
    },
    {
     "data": {
      "application/json": {
       "ascii": false,
       "bar_format": null,
       "colour": null,
       "elapsed": 0.015398740768432617,
       "initial": 0,
       "n": 0,
       "ncols": null,
       "nrows": null,
       "postfix": null,
       "prefix": "Sanity Checking",
       "rate": null,
       "total": null,
       "unit": "it",
       "unit_divisor": 1000,
       "unit_scale": false
      },
      "application/vnd.jupyter.widget-view+json": {
       "model_id": "6d2954951b7b40d683bacfc713cbd300",
       "version_major": 2,
       "version_minor": 0
      },
      "text/plain": [
       "Sanity Checking: 0it [00:00, ?it/s]"
      ]
     },
     "metadata": {},
     "output_type": "display_data"
    },
    {
     "name": "stderr",
     "output_type": "stream",
     "text": [
      "[NeMo W 2022-10-03 18:19:02 nemo_logging:349] /opt/conda/lib/python3.8/site-packages/pytorch_lightning/trainer/connectors/data_connector.py:236: PossibleUserWarning: The dataloader, val_dataloader 0, does not have many workers which may be a bottleneck. Consider increasing the value of the `num_workers` argument` (try 96 which is the number of cpus on this machine) in the `DataLoader` init to improve performance.\n",
      "      rank_zero_warn(\n",
      "    \n",
      "[NeMo W 2022-10-03 18:19:05 nemo_logging:349] /opt/conda/lib/python3.8/site-packages/torchmetrics/utilities/prints.py:36: UserWarning: No positive samples in targets, true positive value should be meaningless. Returning zero tensor in true positive score\n",
      "      warnings.warn(*args, **kwargs)\n",
      "    \n"
     ]
    },
    {
     "name": "stdout",
     "output_type": "stream",
     "text": [
      "[NeMo I 2022-10-03 18:19:05 label_models:353] val_loss: 12.188\n"
     ]
    },
    {
     "name": "stderr",
     "output_type": "stream",
     "text": [
      "[NeMo W 2022-10-03 18:19:05 nemo_logging:349] /opt/conda/lib/python3.8/site-packages/pytorch_lightning/trainer/connectors/data_connector.py:236: PossibleUserWarning: The dataloader, train_dataloader, does not have many workers which may be a bottleneck. Consider increasing the value of the `num_workers` argument` (try 96 which is the number of cpus on this machine) in the `DataLoader` init to improve performance.\n",
      "      rank_zero_warn(\n",
      "    \n"
     ]
    },
    {
     "data": {
      "application/json": {
       "ascii": false,
       "bar_format": null,
       "colour": null,
       "elapsed": 0.016047954559326172,
       "initial": 0,
       "n": 0,
       "ncols": null,
       "nrows": null,
       "postfix": null,
       "prefix": "Training",
       "rate": null,
       "total": null,
       "unit": "it",
       "unit_divisor": 1000,
       "unit_scale": false
      },
      "application/vnd.jupyter.widget-view+json": {
       "model_id": "9507ed8d597b41f5b36e1caa91cb33ec",
       "version_major": 2,
       "version_minor": 0
      },
      "text/plain": [
       "Training: 0it [00:00, ?it/s]"
      ]
     },
     "metadata": {},
     "output_type": "display_data"
    },
    {
     "name": "stderr",
     "output_type": "stream",
     "text": [
      "OMP: Info #276: omp_set_nested routine deprecated, please use omp_set_max_active_levels instead.\n",
      "[NeMo W 2022-10-03 18:19:06 nemo_logging:349] /opt/conda/lib/python3.8/site-packages/pytorch_lightning/trainer/connectors/logger_connector/result.py:231: UserWarning: You called `self.log('global_step', ...)` in your `training_step` but the value needs to be floating point. Converting it to torch.float32.\n",
      "      warning_cache.warn(\n",
      "    \n"
     ]
    },
    {
     "data": {
      "application/json": {
       "ascii": false,
       "bar_format": null,
       "colour": null,
       "elapsed": 0.015538930892944336,
       "initial": 0,
       "n": 0,
       "ncols": null,
       "nrows": null,
       "postfix": null,
       "prefix": "Validation",
       "rate": null,
       "total": null,
       "unit": "it",
       "unit_divisor": 1000,
       "unit_scale": false
      },
      "application/vnd.jupyter.widget-view+json": {
       "model_id": "c7f0eaa13d834cff9882e3cce5d71d48",
       "version_major": 2,
       "version_minor": 0
      },
      "text/plain": [
       "Validation: 0it [00:00, ?it/s]"
      ]
     },
     "metadata": {},
     "output_type": "display_data"
    },
    {
     "name": "stdout",
     "output_type": "stream",
     "text": [
      "[NeMo I 2022-10-03 18:19:49 label_models:353] val_loss: 9.247\n"
     ]
    },
    {
     "name": "stderr",
     "output_type": "stream",
     "text": [
      "Epoch 0, global step 114: 'val_loss' reached 9.24652 (best 9.24652), saving model to '/workspace/nemo_experiments/FAE-ecapa-finetune-CV/2022-10-03_18-18-31/checkpoints/FAE-ecapa-finetune-CV--val_loss=9.2465-epoch=0.ckpt' as top 3\n"
     ]
    },
    {
     "data": {
      "application/json": {
       "ascii": false,
       "bar_format": null,
       "colour": null,
       "elapsed": 0.034680843353271484,
       "initial": 0,
       "n": 0,
       "ncols": null,
       "nrows": null,
       "postfix": null,
       "prefix": "Validation",
       "rate": null,
       "total": null,
       "unit": "it",
       "unit_divisor": 1000,
       "unit_scale": false
      },
      "application/vnd.jupyter.widget-view+json": {
       "model_id": "028b978629604672b2280a6ca13dd409",
       "version_major": 2,
       "version_minor": 0
      },
      "text/plain": [
       "Validation: 0it [00:00, ?it/s]"
      ]
     },
     "metadata": {},
     "output_type": "display_data"
    },
    {
     "name": "stdout",
     "output_type": "stream",
     "text": [
      "[NeMo I 2022-10-03 18:20:42 label_models:353] val_loss: 7.499\n"
     ]
    },
    {
     "name": "stderr",
     "output_type": "stream",
     "text": [
      "Epoch 1, global step 228: 'val_loss' reached 7.49879 (best 7.49879), saving model to '/workspace/nemo_experiments/FAE-ecapa-finetune-CV/2022-10-03_18-18-31/checkpoints/FAE-ecapa-finetune-CV--val_loss=7.4988-epoch=1.ckpt' as top 3\n"
     ]
    },
    {
     "data": {
      "application/json": {
       "ascii": false,
       "bar_format": null,
       "colour": null,
       "elapsed": 0.018476247787475586,
       "initial": 0,
       "n": 0,
       "ncols": null,
       "nrows": null,
       "postfix": null,
       "prefix": "Validation",
       "rate": null,
       "total": null,
       "unit": "it",
       "unit_divisor": 1000,
       "unit_scale": false
      },
      "application/vnd.jupyter.widget-view+json": {
       "model_id": "34358dd1d02048feba3b341ff7845582",
       "version_major": 2,
       "version_minor": 0
      },
      "text/plain": [
       "Validation: 0it [00:00, ?it/s]"
      ]
     },
     "metadata": {},
     "output_type": "display_data"
    },
    {
     "name": "stdout",
     "output_type": "stream",
     "text": [
      "[NeMo I 2022-10-03 18:21:22 label_models:353] val_loss: 7.200\n"
     ]
    },
    {
     "name": "stderr",
     "output_type": "stream",
     "text": [
      "Epoch 2, global step 342: 'val_loss' reached 7.19985 (best 7.19985), saving model to '/workspace/nemo_experiments/FAE-ecapa-finetune-CV/2022-10-03_18-18-31/checkpoints/FAE-ecapa-finetune-CV--val_loss=7.1999-epoch=2.ckpt' as top 3\n"
     ]
    },
    {
     "data": {
      "application/json": {
       "ascii": false,
       "bar_format": null,
       "colour": null,
       "elapsed": 0.034552574157714844,
       "initial": 0,
       "n": 0,
       "ncols": null,
       "nrows": null,
       "postfix": null,
       "prefix": "Validation",
       "rate": null,
       "total": null,
       "unit": "it",
       "unit_divisor": 1000,
       "unit_scale": false
      },
      "application/vnd.jupyter.widget-view+json": {
       "model_id": "baade9d735a34f90b34a46a6368a5e82",
       "version_major": 2,
       "version_minor": 0
      },
      "text/plain": [
       "Validation: 0it [00:00, ?it/s]"
      ]
     },
     "metadata": {},
     "output_type": "display_data"
    },
    {
     "name": "stdout",
     "output_type": "stream",
     "text": [
      "[NeMo I 2022-10-03 18:22:11 label_models:353] val_loss: 6.806\n"
     ]
    },
    {
     "name": "stderr",
     "output_type": "stream",
     "text": [
      "Epoch 3, global step 456: 'val_loss' reached 6.80589 (best 6.80589), saving model to '/workspace/nemo_experiments/FAE-ecapa-finetune-CV/2022-10-03_18-18-31/checkpoints/FAE-ecapa-finetune-CV--val_loss=6.8059-epoch=3.ckpt' as top 3\n"
     ]
    },
    {
     "data": {
      "application/json": {
       "ascii": false,
       "bar_format": null,
       "colour": null,
       "elapsed": 0.035418033599853516,
       "initial": 0,
       "n": 0,
       "ncols": null,
       "nrows": null,
       "postfix": null,
       "prefix": "Validation",
       "rate": null,
       "total": null,
       "unit": "it",
       "unit_divisor": 1000,
       "unit_scale": false
      },
      "application/vnd.jupyter.widget-view+json": {
       "model_id": "9f4e4c79467a4e08bbca73d83d0974c8",
       "version_major": 2,
       "version_minor": 0
      },
      "text/plain": [
       "Validation: 0it [00:00, ?it/s]"
      ]
     },
     "metadata": {},
     "output_type": "display_data"
    },
    {
     "name": "stdout",
     "output_type": "stream",
     "text": [
      "[NeMo I 2022-10-03 18:23:03 label_models:353] val_loss: 6.830\n"
     ]
    },
    {
     "name": "stderr",
     "output_type": "stream",
     "text": [
      "Epoch 4, global step 570: 'val_loss' reached 6.83018 (best 6.80589), saving model to '/workspace/nemo_experiments/FAE-ecapa-finetune-CV/2022-10-03_18-18-31/checkpoints/FAE-ecapa-finetune-CV--val_loss=6.8302-epoch=4.ckpt' as top 3\n",
      "`Trainer.fit` stopped: `max_epochs=5` reached.\n"
     ]
    }
   ],
   "source": [
    "trainer_finetune.fit(speaker_model)"
   ]
  },
  {
   "cell_type": "markdown",
   "metadata": {},
   "source": [
    "---\n",
    "### Saving .nemo file\n",
    "Now we can save the whole config and model parameters in a single .nemo and we can anytime restore from it"
   ]
  },
  {
   "cell_type": "code",
   "execution_count": 22,
   "metadata": {},
   "outputs": [],
   "source": [
    "model_nemo_path = os.path.join(log_dir_finetune, \"ecapa_fae-cv22-finetune.nemo\")\n",
    "latest_model_nemo_path = os.path.join(log_dir_finetune, '..', \"ecapa_fae-cv22-finetune.nemo\")"
   ]
  },
  {
   "cell_type": "code",
   "execution_count": 23,
   "metadata": {},
   "outputs": [],
   "source": [
    "speaker_model.save_to(model_nemo_path)\n",
    "speaker_model.save_to(latest_model_nemo_path)"
   ]
  },
  {
   "cell_type": "markdown",
   "metadata": {},
   "source": [
    "---\n",
    "## Visualize Embeddings with TensorBoard Projector\n",
    "\n",
    "#### Task: Foreign Accent English classification\n",
    "#### Model: TitaNet\n",
    "#### Corpus: FAE-CV22\n"
   ]
  },
  {
   "cell_type": "markdown",
   "metadata": {},
   "source": [
    "### Import modules."
   ]
  },
  {
   "cell_type": "code",
   "execution_count": 24,
   "metadata": {},
   "outputs": [],
   "source": [
    "# We need to install tensorflow to generate data to visualize the embedding space.\n",
    "try:\n",
    "    import tensorflow\n",
    "except:\n",
    "    %pip install tensorflow"
   ]
  },
  {
   "cell_type": "code",
   "execution_count": 25,
   "metadata": {},
   "outputs": [],
   "source": [
    "import warnings\n",
    "\n",
    "warnings.simplefilter(action=\"ignore\", category=FutureWarning)\n",
    "import datetime\n",
    "import os\n",
    "import json\n",
    "from collections import OrderedDict\n",
    "import numpy as np\n",
    "import pandas as pd\n",
    "from sklearn.metrics import confusion_matrix, ConfusionMatrixDisplay\n",
    "from tqdm import tqdm\n",
    "from omegaconf import OmegaConf\n",
    "from nemo.collections.asr.models import EncDecSpeakerLabelModel\n",
    "from matplotlib import pyplot as plt\n",
    "import torch\n",
    "import pytorch_lightning as pl\n",
    "from torch.utils.tensorboard import SummaryWriter\n",
    "import tensorflow as tf\n",
    "import tensorboard as tb\n",
    "\n",
    "tf.io.gfile = tb.compat.tensorflow_stub.io.gfile"
   ]
  },
  {
   "cell_type": "markdown",
   "metadata": {},
   "source": [
    "---\n",
    "### Load Speaker-Accent Model and Manifest files.\n"
   ]
  },
  {
   "cell_type": "code",
   "execution_count": 26,
   "metadata": {},
   "outputs": [],
   "source": [
    "#ROOT = os.getcwd()\n",
    "#if os.path.exists(os.path.join(ROOT, 'drive', 'MyDrive')):\n",
    "#  ROOT = os.path.join(ROOT, 'drive', 'MyDrive')\n",
    "#data_dir = os.path.join(ROOT, \"data\")\n",
    "#log_dir_finetune = '/workspace/nemo_experiments/FAE-finetune-CV'\n",
    "#model_nemo_path = os.path.join(log_dir_finetune, '..', \"ecapa_fae-cv22-finetune.nemo\")\n",
    "\n",
    "train_manifest = os.path.join(data_dir,'manifest-train.json')\n",
    "validation_manifest = os.path.join(data_dir,'manifest-dev.json')\n",
    "test_manifest = os.path.join(data_dir,'manifest-test.json')\n",
    "eval_manifest = os.path.join(data_dir,'manifest-eval.json')\n",
    "\n",
    "# Model\n",
    "model_nemo_path = model_nemo_path\n",
    "#\n",
    "# Data manifests\n",
    "test_manifest_filepath = test_manifest\n",
    "eval_manifest_filepath = eval_manifest\n",
    "enroll_manifest_filepath = train_manifest"
   ]
  },
  {
   "cell_type": "code",
   "execution_count": 27,
   "metadata": {},
   "outputs": [],
   "source": [
    "# Define In/Out filepaths\n",
    "# Select below as needed.\n",
    "#\n",
    "conf = OmegaConf.create()\n",
    "conf[\"data\"] = {}\n",
    "# IN:\n",
    "test_title = f'{model_nemo_path.split(\"/\")[-1]}\\n{os.path.basename(test_manifest_filepath)}'\n",
    "conf.data[\"test\"] = dict(\\\n",
    "    manifest_path=test_manifest_filepath, \\\n",
    "    title=test_title\n",
    "    )\n",
    "#\n",
    "eval_title = f'{model_nemo_path.split(\"/\")[-1]}\\n{os.path.basename(eval_manifest_filepath)}'\n",
    "conf.data[\"eval\"] = dict(\\\n",
    "    manifest_path=eval_manifest_filepath,\n",
    "    title=eval_title\n",
    "    )\n",
    "#\n",
    "enroll_title = f'{model_nemo_path.split(\"/\")[-1]}\\n{os.path.basename(enroll_manifest_filepath)}'\n",
    "conf.data['enroll'] = dict(\\\n",
    "    manifest_path=enroll_manifest_filepath,\n",
    "    title=enroll_title\n",
    "    )"
   ]
  },
  {
   "cell_type": "code",
   "execution_count": 28,
   "metadata": {},
   "outputs": [
    {
     "name": "stdout",
     "output_type": "stream",
     "text": [
      "data:\n",
      "  test:\n",
      "    manifest_path: data/manifest-test.json\n",
      "    title: 'ecapa_fae-cv22-finetune.nemo\n",
      "\n",
      "      manifest-test.json'\n",
      "  eval:\n",
      "    manifest_path: data/manifest-eval.json\n",
      "    title: 'ecapa_fae-cv22-finetune.nemo\n",
      "\n",
      "      manifest-eval.json'\n",
      "  enroll:\n",
      "    manifest_path: data/manifest-train.json\n",
      "    title: 'ecapa_fae-cv22-finetune.nemo\n",
      "\n",
      "      manifest-train.json'\n",
      "\n"
     ]
    }
   ],
   "source": [
    "print(OmegaConf.to_yaml(conf))"
   ]
  },
  {
   "cell_type": "markdown",
   "metadata": {},
   "source": [
    "---\n",
    "\n",
    "### Extract Embeddings"
   ]
  },
  {
   "cell_type": "markdown",
   "metadata": {},
   "source": [
    "#### Get embeddings for the Test Set\n",
    "\n",
    "The test-set is the FAE-CV \"`test.tsv`\" file."
   ]
  },
  {
   "cell_type": "code",
   "execution_count": 29,
   "metadata": {},
   "outputs": [
    {
     "name": "stdout",
     "output_type": "stream",
     "text": [
      "[NeMo I 2022-10-03 18:24:47 collections:297] Filtered duration for loading collection is 0.000000.\n",
      "[NeMo I 2022-10-03 18:24:47 collections:301] # 916 files loaded accounting to # 11 labels\n"
     ]
    },
    {
     "name": "stderr",
     "output_type": "stream",
     "text": [
      "100%|██████████| 29/29 [00:03<00:00,  8.99it/s]\n"
     ]
    }
   ],
   "source": [
    "# STEP 2.1: Run Test.\n",
    "#\n",
    "MANIFEST_FILEPATH = conf.data.test.manifest_path\n",
    "accelerator = 'gpu' if torch.cuda.is_available() else 'cpu'\n",
    "\n",
    "#\n",
    "(\n",
    "    test_embs,\n",
    "    test_logits,\n",
    "    test_ref_labels,\n",
    "    test_idx2labD,\n",
    ") = EncDecSpeakerLabelModel.get_batch_embeddings(\n",
    "    speaker_model=speaker_model,\n",
    "    manifest_filepath=MANIFEST_FILEPATH,\n",
    "    batch_size=32,\n",
    "    sample_rate=16000,\n",
    "    device='cuda',\n",
    ")\n",
    "test_embs = test_embs / (np.linalg.norm(test_embs, ord=2, axis=-1, keepdims=True))"
   ]
  },
  {
   "cell_type": "markdown",
   "metadata": {},
   "source": [
    "#### Get embeddings for the Eval Set\n",
    "\n",
    "The eval-set is the FAE-CV \"`eval.tsv`\" file."
   ]
  },
  {
   "cell_type": "code",
   "execution_count": 30,
   "metadata": {},
   "outputs": [
    {
     "name": "stdout",
     "output_type": "stream",
     "text": [
      "[NeMo I 2022-10-03 18:24:50 collections:297] Filtered duration for loading collection is 0.000000.\n",
      "[NeMo I 2022-10-03 18:24:50 collections:301] # 388 files loaded accounting to # 11 labels\n"
     ]
    },
    {
     "name": "stderr",
     "output_type": "stream",
     "text": [
      "100%|██████████| 13/13 [00:00<00:00, 13.48it/s]\n"
     ]
    }
   ],
   "source": [
    "# STEP 2.1: Run Evaluation.\n",
    "#\n",
    "MANIFEST_FILEPATH = conf.data.eval.manifest_path\n",
    "\n",
    "#\n",
    "(\n",
    "    eval_embs,\n",
    "    eval_logits,\n",
    "    eval_ref_labels,\n",
    "    eval_idx2labD,\n",
    ") = EncDecSpeakerLabelModel.get_batch_embeddings(\n",
    "    speaker_model=speaker_model,\n",
    "    manifest_filepath=MANIFEST_FILEPATH,\n",
    "    batch_size=32,\n",
    "    sample_rate=16000,\n",
    "    device='cuda',\n",
    ")\n",
    "eval_embs = eval_embs / (np.linalg.norm(eval_embs, ord=2, axis=-1, keepdims=True))"
   ]
  },
  {
   "cell_type": "markdown",
   "metadata": {},
   "source": [
    "#### Get embeddings for the Enroll Set\n",
    "\n",
    "The enroll-set is the within class average of the FAE-CV \"`train.tsv`\" file."
   ]
  },
  {
   "cell_type": "code",
   "execution_count": 31,
   "metadata": {},
   "outputs": [
    {
     "name": "stdout",
     "output_type": "stream",
     "text": [
      "[NeMo I 2022-10-03 18:24:54 collections:297] Filtered duration for loading collection is 0.000000.\n",
      "[NeMo I 2022-10-03 18:24:54 collections:301] # 7272 files loaded accounting to # 11 labels\n"
     ]
    },
    {
     "name": "stderr",
     "output_type": "stream",
     "text": [
      "100%|██████████| 228/228 [00:13<00:00, 17.17it/s]\n"
     ]
    }
   ],
   "source": [
    "# Step 2.3\n",
    "MANIFEST_FILEPATH = conf.data.enroll.manifest_path\n",
    "\n",
    "(\n",
    "    enrol_embs, \n",
    "    enrol_logits, \n",
    "    enrol_ref_labels, \n",
    "    enrol_idx2labD,\n",
    ") = EncDecSpeakerLabelModel.get_batch_embeddings(\n",
    "    speaker_model=speaker_model, \n",
    "    manifest_filepath=MANIFEST_FILEPATH, \n",
    "    batch_size=32, \n",
    "    sample_rate=16000, \n",
    "    device='cuda',\n",
    ")\n",
    "# Note that embeddings are unit-vectors.\n",
    "enrol_embs = enrol_embs / (np.linalg.norm(enrol_embs, ord=2, axis=-1, keepdims=True))\n",
    "#\n",
    "centroidsL = []\n",
    "keyslist = list(eval_idx2labD.keys())\n",
    "for label_id in keyslist:\n",
    "    indices = np.where(enrol_ref_labels == label_id)\n",
    "    embedding = (enrol_embs[indices].sum(axis=0).squeeze()) / len(indices)\n",
    "    centroidsL.append(embedding)\n",
    "enrol_embs = np.asarray(centroidsL)\n",
    "# Project back to a hyper-sphere keeping them as unit-vectors\n",
    "enrol_embs = enrol_embs / (np.linalg.norm(enrol_embs, ord=2, axis=-1, keepdims=True))"
   ]
  },
  {
   "cell_type": "markdown",
   "metadata": {},
   "source": [
    "---\n",
    "\n",
    "### Create Embedding Visualization files\n",
    "\n",
    "We use the TensorBoard Projector\n"
   ]
  },
  {
   "cell_type": "code",
   "execution_count": 32,
   "metadata": {},
   "outputs": [],
   "source": [
    "# Switch this to True to bypass writting.\n",
    "DRY_RUN = False\n",
    "\n",
    "exp_dir = os.path.join(finetune_config.exp_manager.exp_dir, finetune_config.name)\n",
    "tstamp = datetime.datetime.now().isoformat().replace(\":\", \"-\")"
   ]
  },
  {
   "cell_type": "markdown",
   "metadata": {},
   "source": [
    "##### - Test Data Points (FAE-CV22 test.tsv)\n",
    "\n",
    "Create data file to visualize the embeddings from the `Test` Data."
   ]
  },
  {
   "cell_type": "code",
   "execution_count": 33,
   "metadata": {},
   "outputs": [],
   "source": [
    "# Gather vector data\n",
    "set = 'Test'\n",
    "vectors = test_embs\n",
    "metadata = [test_idx2labD[x] for x in test_ref_labels]"
   ]
  },
  {
   "cell_type": "code",
   "execution_count": 34,
   "metadata": {},
   "outputs": [
    {
     "name": "stdout",
     "output_type": "stream",
     "text": [
      "Wrote 916 embeddings in a 192-dim space.\n"
     ]
    }
   ],
   "source": [
    "# Create SummaryWritter\n",
    "logdir = f\"{exp_dir}/FAEcv22_embs{set}_{tstamp}\"\n",
    "if not DRY_RUN:\n",
    "    writer = SummaryWriter(logdir)\n",
    "    writer = SummaryWriter(logdir)\n",
    "    writer.add_embedding(vectors, metadata)\n",
    "    writer.close()\n",
    "print(f\"Wrote {vectors.shape[0]} embeddings in a {vectors.shape[1]}-dim space.\")"
   ]
  },
  {
   "cell_type": "markdown",
   "metadata": {},
   "source": [
    "##### - Eval Data Points  (FAE-CV22 eval.tsv)\n",
    "\n",
    "Create data file to visualize the embeddings from the `Eval` Data."
   ]
  },
  {
   "cell_type": "code",
   "execution_count": 35,
   "metadata": {},
   "outputs": [],
   "source": [
    "# Gather vector data\n",
    "set = 'Eval'\n",
    "vectors = eval_embs\n",
    "metadata = [eval_idx2labD[x] for x in eval_ref_labels]"
   ]
  },
  {
   "cell_type": "code",
   "execution_count": 36,
   "metadata": {},
   "outputs": [
    {
     "name": "stdout",
     "output_type": "stream",
     "text": [
      "Wrote 388 embeddings in a 192-dim space.\n"
     ]
    }
   ],
   "source": [
    "# Create SummaryWritter\n",
    "logdir = f\"{exp_dir}/FAEcv22_embs{set}_{tstamp}\"\n",
    "if not DRY_RUN:\n",
    "    writer = SummaryWriter(logdir)\n",
    "    writer = SummaryWriter(logdir)\n",
    "    writer.add_embedding(vectors, metadata)\n",
    "    writer.close()\n",
    "print(f\"Wrote {vectors.shape[0]} embeddings in a {vectors.shape[1]}-dim space.\")"
   ]
  },
  {
   "cell_type": "markdown",
   "metadata": {},
   "source": [
    "##### - Enroll Data Points  (FAE-CV22 averaged train.tsv)\n",
    "\n",
    "Create data file to visualize the embeddings from the `Enroll` Data."
   ]
  },
  {
   "cell_type": "code",
   "execution_count": 37,
   "metadata": {},
   "outputs": [],
   "source": [
    "# Gather vector data\n",
    "set = 'Enroll'\n",
    "vectors = enrol_embs\n",
    "metadata = [enrol_idx2labD[x] for x in keyslist]"
   ]
  },
  {
   "cell_type": "code",
   "execution_count": 38,
   "metadata": {},
   "outputs": [
    {
     "name": "stdout",
     "output_type": "stream",
     "text": [
      "Wrote 11 embeddings in a 192-dim space.\n"
     ]
    }
   ],
   "source": [
    "# Create SummaryWritter\n",
    "logdir = f\"{exp_dir}/FAEcv22_embs{set}_{tstamp}\"\n",
    "if not DRY_RUN:\n",
    "    writer = SummaryWriter(logdir)\n",
    "    writer = SummaryWriter(logdir)\n",
    "    writer.add_embedding(vectors, metadata)\n",
    "    writer.close()\n",
    "print(f\"Wrote {vectors.shape[0]} embeddings in a {vectors.shape[1]}-dim space.\")"
   ]
  },
  {
   "cell_type": "markdown",
   "metadata": {},
   "source": [
    "##### --> Open Tensorboard Projector to access the interactive visualization of Accent Embeddings."
   ]
  },
  {
   "cell_type": "markdown",
   "metadata": {},
   "source": [
    "---\n",
    "\n",
    "### Create Confussion Matrix\n",
    "\n",
    "Use the cosine score as similarity measure between an embedding and its enrolled prototype."
   ]
  },
  {
   "cell_type": "code",
   "execution_count": 39,
   "metadata": {},
   "outputs": [],
   "source": [
    "cos_sim_sco = np.matmul(test_embs, enrol_embs.T)\n",
    "hyp_labels = cos_sim_sco.argmax(axis=-1)"
   ]
  },
  {
   "cell_type": "code",
   "execution_count": 40,
   "metadata": {},
   "outputs": [
    {
     "data": {
      "image/png": "[encoded data removed]",
      "text/plain": [
       "<Figure size 720x720 with 2 Axes>"
      ]
     },
     "metadata": {
      "needs_background": "light"
     },
     "output_type": "display_data"
    }
   ],
   "source": [
    "# Confussion Matrix normalized.\n",
    "TITLE = f'Normalized\\n{conf.data.test.title}'\n",
    "cm = confusion_matrix(test_ref_labels, hyp_labels, normalize=\"true\")\n",
    "disp = ConfusionMatrixDisplay(confusion_matrix=cm, display_labels=test_idx2labD.values())\n",
    "f = disp.plot(xticks_rotation='vertical').ax_.set_title(TITLE);\n",
    "f.figure.set_size_inches(10,10)"
   ]
  },
  {
   "cell_type": "markdown",
   "metadata": {},
   "source": [
    "-----"
   ]
  },
  {
   "cell_type": "markdown",
   "metadata": {},
   "source": [
    "## Visualize Embedding Space with Tensorboard\n",
    "\n",
    "#### **Important**: \n",
    "\n",
    "* If running in Colab:\n",
    "  * Use Google Chrome web browser for Tensorboard to work properly.\n",
    "  * Once Tensorboard loads, hit the 'reload' ↺ button within Tensorboard to enable the `Projector`.\n",
    "* If running as a docker-container:\n",
    "  * Tensorboard is already listening to port `6006`. Simply point your web browser to the server host on that port.\n",
    "\n",
    "The cells below open Tensorboard within collab."
   ]
  },
  {
   "cell_type": "code",
   "execution_count": 41,
   "metadata": {},
   "outputs": [],
   "source": [
    "if RunningInCOLAB:\n",
    "    %load_ext tensorboard"
   ]
  },
  {
   "cell_type": "code",
   "execution_count": 42,
   "metadata": {},
   "outputs": [],
   "source": [
    "if RunningInCOLAB:\n",
    "    %tensorboard --logdir /content/nemo_experiments/FAE-finetune-CV/"
   ]
  },
  {
   "cell_type": "markdown",
   "metadata": {},
   "source": [
    "---"
   ]
  },
  {
   "cell_type": "markdown",
   "metadata": {},
   "source": [
    "# TitaNet model"
   ]
  },
  {
   "cell_type": "markdown",
   "metadata": {},
   "source": [
    "## Fine-tuning. \n",
    "### Repurpose a pre-trained Speaker-Recongition DNN model for Speaker-Accent Classification.\n",
    "\n",
    "We finetune a pretrained Speaker-Recognition model (published on NGC) to accent classification. \n",
    "\n",
    "Note: All the following steps are just for explanation of each section, but one can use the provided [FAE recognition script](https://github.com/schaltung/NeMo/blob/fae22/examples/speaker_tasks/paralinguistics/speaker_fae_reco.py) to launch training in the command line."
   ]
  },
  {
   "cell_type": "code",
   "execution_count": 43,
   "metadata": {},
   "outputs": [
    {
     "name": "stderr",
     "output_type": "stream",
     "text": [
      "Global seed set to 42\n"
     ]
    },
    {
     "data": {
      "text/plain": [
       "42"
      ]
     },
     "execution_count": 43,
     "metadata": {},
     "output_type": "execute_result"
    }
   ],
   "source": [
    "import torch\n",
    "import pytorch_lightning as pl\n",
    "from pytorch_lightning import seed_everything\n",
    "from nemo.collections.asr.models import EncDecSpeakerLabelModel\n",
    "from nemo.utils.exp_manager import exp_manager\n",
    "seed_everything(42)"
   ]
  },
  {
   "cell_type": "markdown",
   "metadata": {},
   "source": [
    "### Basic Configuration\n",
    "The TitaNet model is defined in a config file which declares multiple important sections.\n",
    "\n",
    "They are:\n",
    "\n",
    "1) model: All arguments that will relate to the Model - preprocessors, encoder, decoder, optimizer and schedulers, datasets, and any other related information\n",
    "\n",
    "2) trainer: Any argument to be passed to PyTorch Lightning"
   ]
  },
  {
   "cell_type": "code",
   "execution_count": 45,
   "metadata": {},
   "outputs": [],
   "source": [
    "!mkdir -p conf\n",
    "!wget -q -P conf https://raw.githubusercontent.com/schaltung/NeMo/$BRANCH/examples/speaker_tasks/paralinguistics/conf/titanet-finetune-cv.yaml\n",
    "MODEL_CONFIG = 'conf/titanet-finetune-cv.yaml'\n",
    "finetune_config = OmegaConf.load(MODEL_CONFIG)\n",
    "#print(OmegaConf.to_yaml(finetune_config))"
   ]
  },
  {
   "cell_type": "markdown",
   "metadata": {},
   "source": [
    "### Add the datasets (manifests) to the config.\n",
    "\n",
    "The config dictionaries called `train_ds`, `validation_ds` and `test_ds` are configurations used to setup the Dataset and DataLoaders of the corresponding config."
   ]
  },
  {
   "cell_type": "code",
   "execution_count": 46,
   "metadata": {},
   "outputs": [
    {
     "name": "stdout",
     "output_type": "stream",
     "text": [
      "manifest_filepath: ???\n",
      "sample_rate: ${model.sample_rate}\n",
      "labels: null\n",
      "batch_size: 64\n",
      "shuffle: true\n",
      "is_tarred: false\n",
      "tarred_audio_filepaths: null\n",
      "tarred_shard_strategy: scatter\n",
      "augmentor:\n",
      "  speed:\n",
      "    prob: 0.3\n",
      "    sr: ${model.sample_rate}\n",
      "    resample_type: kaiser_fast\n",
      "    min_speed_rate: 0.95\n",
      "    max_speed_rate: 1.05\n",
      "\n",
      "manifest_filepath: ???\n",
      "sample_rate: ${model.sample_rate}\n",
      "labels: null\n",
      "batch_size: 128\n",
      "shuffle: false\n",
      "\n"
     ]
    }
   ],
   "source": [
    "print(OmegaConf.to_yaml(finetune_config.model.train_ds))\n",
    "print(OmegaConf.to_yaml(finetune_config.model.validation_ds))"
   ]
  },
  {
   "cell_type": "code",
   "execution_count": 47,
   "metadata": {},
   "outputs": [
    {
     "data": {
      "text/plain": [
       "{'manifest_filepath': '???', 'sample_rate': '${model.sample_rate}', 'labels': None, 'batch_size': 128, 'shuffle': False}"
      ]
     },
     "execution_count": 47,
     "metadata": {},
     "output_type": "execute_result"
    }
   ],
   "source": [
    "finetune_config.model.train_ds.manifest_filepath = train_manifest\n",
    "finetune_config.model.validation_ds.manifest_filepath = validation_manifest\n",
    "finetune_config.model.pop('test_ds', None)"
   ]
  },
  {
   "cell_type": "markdown",
   "metadata": {},
   "source": [
    "Note: Since we are training speaker embedding extractor model for verification we do not add test_ds dataset. To include it add it to config and replace manifest file as \n",
    "`config.model.test_ds.manifest_filepath = test_manifest`\n",
    "\n",
    "Also as we are training on FAE-CV22 dataset, there are 11 accent labels in training, and we need to set this in the decoder config."
   ]
  },
  {
   "cell_type": "code",
   "execution_count": 48,
   "metadata": {},
   "outputs": [
    {
     "name": "stdout",
     "output_type": "stream",
     "text": [
      "11\n"
     ]
    }
   ],
   "source": [
    "print(trainDF.label.nunique())\n",
    "finetune_config.model.decoder.num_classes = trainDF.label.nunique()"
   ]
  },
  {
   "cell_type": "markdown",
   "metadata": {},
   "source": [
    "### Setup a Trainer and Experiment-Logger"
   ]
  },
  {
   "cell_type": "markdown",
   "metadata": {},
   "source": [
    "Note: If one would like to finetune from a PTL checkpoint (instead of the NGC public model), `init_from_pretrained_model` in config should be replaced with `init_from_nemo_model` and need to provide the path to checkpoint. "
   ]
  },
  {
   "cell_type": "markdown",
   "metadata": {},
   "source": [
    "So far we have set up the data manifest files and changed the decoder required for finetune. We now just need to create a trainer and start training with a smaller learning rate for fewer epochs."
   ]
  },
  {
   "cell_type": "code",
   "execution_count": 49,
   "metadata": {},
   "outputs": [
    {
     "name": "stdout",
     "output_type": "stream",
     "text": [
      "devices: 1\n",
      "max_epochs: 5\n",
      "max_steps: -1\n",
      "num_nodes: 1\n",
      "accelerator: gpu\n",
      "deterministic: false\n",
      "enable_checkpointing: false\n",
      "logger: false\n",
      "log_every_n_steps: 1\n",
      "val_check_interval: 1.0\n",
      "\n"
     ]
    }
   ],
   "source": [
    "# Setup the new trainer object\n",
    "# Let us modify some trainer configs for this demo\n",
    "# Checks if we have GPU available and uses it\n",
    "accelerator = 'gpu' if torch.cuda.is_available() else 'cpu'\n",
    "\n",
    "trainer_config = finetune_config.trainer\n",
    "trainer_config.accelerator = accelerator\n",
    "\n",
    "trainer_config.pop('strategy',None)\n",
    "trainer_config.deterministic = False\n",
    "# DBG:\n",
    "trainer_config.max_epochs = 5\n",
    "trainer_config.devices = 1\n",
    "if RunningInCOLAB:\n",
    "  print('adjusting configuration for colab.')\n",
    "  finetune_config.model.train_ds.batch_size = 24\n",
    "  finetune_config.model.validation_ds.batch_size = 24\n",
    "  finetune_config.exp_manager.exp_dir = '/content/nemo_experiments'\n",
    "\n",
    "print(OmegaConf.to_yaml(trainer_config))"
   ]
  },
  {
   "cell_type": "code",
   "execution_count": 50,
   "metadata": {},
   "outputs": [
    {
     "name": "stderr",
     "output_type": "stream",
     "text": [
      "GPU available: True (cuda), used: True\n",
      "TPU available: False, using: 0 TPU cores\n",
      "IPU available: False, using: 0 IPUs\n",
      "HPU available: False, using: 0 HPUs\n",
      "`Trainer(val_check_interval=1.0)` was configured so validation will run at the end of the training epoch..\n"
     ]
    }
   ],
   "source": [
    "trainer_finetune = pl.Trainer(**trainer_config)"
   ]
  },
  {
   "cell_type": "markdown",
   "metadata": {},
   "source": [
    "### Setting up a NeMo Experiment\n",
    "NeMo has an experiment manager that handles logging and checkpointing for us, so let's use it !"
   ]
  },
  {
   "cell_type": "code",
   "execution_count": 51,
   "metadata": {},
   "outputs": [
    {
     "name": "stdout",
     "output_type": "stream",
     "text": [
      "[NeMo I 2022-10-03 18:26:56 exp_manager:286] Experiments will be logged at /workspace/nemo_experiments/FAE-titaNet-finetune-CV/2022-10-03_18-18-31\n",
      "[NeMo I 2022-10-03 18:26:56 exp_manager:660] TensorboardLogger has been set up\n"
     ]
    },
    {
     "name": "stderr",
     "output_type": "stream",
     "text": [
      "[NeMo W 2022-10-03 18:26:56 nemo_logging:349] /opt/conda/lib/python3.8/site-packages/pytorch_lightning/trainer/trainer.py:2274: LightningDeprecationWarning: `Trainer.weights_save_path` has been deprecated in v1.6 and will be removed in v1.8.\n",
      "      rank_zero_deprecation(\"`Trainer.weights_save_path` has been deprecated in v1.6 and will be removed in v1.8.\")\n",
      "    \n",
      "[NeMo W 2022-10-03 18:26:56 exp_manager:900] The checkpoint callback was told to monitor a validation value and trainer's max_steps was set to -1. Please ensure that max_steps will run for at least 1 epochs to ensure that checkpointing will not error out.\n"
     ]
    },
    {
     "name": "stdout",
     "output_type": "stream",
     "text": [
      "/workspace/nemo_experiments/FAE-titaNet-finetune-CV/2022-10-03_18-18-31\n"
     ]
    }
   ],
   "source": [
    "log_dir_finetune = exp_manager(trainer_finetune, finetune_config.get(\"exp_manager\", None))\n",
    "print(log_dir_finetune)"
   ]
  },
  {
   "cell_type": "code",
   "execution_count": 63,
   "metadata": {},
   "outputs": [
    {
     "name": "stdout",
     "output_type": "stream",
     "text": [
      "[NeMo I 2022-10-03 18:35:57 collections:297] Filtered duration for loading collection is 0.000000.\n",
      "[NeMo I 2022-10-03 18:35:57 collections:301] # 7272 files loaded accounting to # 11 labels\n"
     ]
    },
    {
     "name": "stderr",
     "output_type": "stream",
     "text": [
      "[NeMo W 2022-10-03 18:35:57 label_models:159] Total number of 11 found in all the manifest files.\n"
     ]
    },
    {
     "name": "stdout",
     "output_type": "stream",
     "text": [
      "[NeMo I 2022-10-03 18:35:57 collections:297] Filtered duration for loading collection is 0.000000.\n",
      "[NeMo I 2022-10-03 18:35:57 collections:301] # 7272 files loaded accounting to # 11 labels\n",
      "[NeMo I 2022-10-03 18:35:57 collections:297] Filtered duration for loading collection is 0.000000.\n",
      "[NeMo I 2022-10-03 18:35:57 collections:301] # 916 files loaded accounting to # 11 labels\n",
      "[NeMo I 2022-10-03 18:35:57 features:223] PADDING: 16\n",
      "[NeMo I 2022-10-03 18:35:57 label_models:102] loss is Angular Softmax\n"
     ]
    },
    {
     "name": "stderr",
     "output_type": "stream",
     "text": [
      "[NeMo W 2022-10-03 18:35:57 nemo_logging:349] /opt/conda/lib/python3.8/site-packages/torchmetrics/utilities/prints.py:36: UserWarning: Torchmetrics v0.9 introduced a new argument class property called `full_state_update` that has\n",
      "                    not been set for this class (TopKClassificationAccuracy). The property determines if `update` by\n",
      "                    default needs access to the full metric state. If this is not the case, significant speedups can be\n",
      "                    achieved and we recommend setting this to `False`.\n",
      "                    We provide an checking function\n",
      "                    `from torchmetrics.utilities import check_forward_full_state_property`\n",
      "                    that can be used to check if the `full_state_update=True` (old and potential slower behaviour,\n",
      "                    default for now) or if `full_state_update=False` can be used safely.\n",
      "                    \n",
      "      warnings.warn(*args, **kwargs)\n",
      "    \n",
      "[NeMo W 2022-10-03 18:35:57 nemo_logging:349] /opt/conda/lib/python3.8/site-packages/torchmetrics/utilities/prints.py:36: UserWarning: Metric `AUROC` will save all targets and predictions in buffer. For large datasets this may lead to large memory footprint.\n",
      "      warnings.warn(*args, **kwargs)\n",
      "    \n"
     ]
    }
   ],
   "source": [
    "speaker_model = EncDecSpeakerLabelModel(cfg=finetune_config.model, \\\n",
    "    trainer=trainer_finetune)"
   ]
  },
  {
   "cell_type": "code",
   "execution_count": 64,
   "metadata": {},
   "outputs": [
    {
     "name": "stdout",
     "output_type": "stream",
     "text": [
      "[NeMo I 2022-10-03 18:36:02 cloud:66] Downloading from: https://api.ngc.nvidia.com/v2/models/nvidia/nemo/titanet_large/versions/v0/files/titanet-l.nemo to /root/.cache/torch/NeMo/NeMo_1.12.0rc0/titanet-l/492c0ab8416139171dc18c21879a9e45/titanet-l.nemo\n",
      "[NeMo I 2022-10-03 18:36:08 common:910] Instantiating model from pre-trained checkpoint\n"
     ]
    },
    {
     "name": "stderr",
     "output_type": "stream",
     "text": [
      "[NeMo W 2022-10-03 18:36:08 modelPT:142] If you intend to do training or fine-tuning, please call the ModelPT.setup_training_data() method and provide a valid configuration file to setup the train data loader.\n",
      "    Train config : \n",
      "    manifest_filepath: /manifests/combined_fisher_swbd_voxceleb12_librispeech/train.json\n",
      "    sample_rate: 16000\n",
      "    labels: null\n",
      "    batch_size: 64\n",
      "    shuffle: true\n",
      "    time_length: 3\n",
      "    is_tarred: false\n",
      "    tarred_audio_filepaths: null\n",
      "    tarred_shard_strategy: scatter\n",
      "    augmentor:\n",
      "      noise:\n",
      "        manifest_path: /manifests/noise/rir_noise_manifest.json\n",
      "        prob: 0.5\n",
      "        min_snr_db: 0\n",
      "        max_snr_db: 15\n",
      "      speed:\n",
      "        prob: 0.5\n",
      "        sr: 16000\n",
      "        resample_type: kaiser_fast\n",
      "        min_speed_rate: 0.95\n",
      "        max_speed_rate: 1.05\n",
      "    num_workers: 15\n",
      "    pin_memory: true\n",
      "    \n",
      "[NeMo W 2022-10-03 18:36:08 modelPT:149] If you intend to do validation, please call the ModelPT.setup_validation_data() or ModelPT.setup_multiple_validation_data() method and provide a valid configuration file to setup the validation data loader(s). \n",
      "    Validation config : \n",
      "    manifest_filepath: /manifests/combined_fisher_swbd_voxceleb12_librispeech/dev.json\n",
      "    sample_rate: 16000\n",
      "    labels: null\n",
      "    batch_size: 128\n",
      "    shuffle: false\n",
      "    time_length: 3\n",
      "    num_workers: 15\n",
      "    pin_memory: true\n",
      "    \n"
     ]
    },
    {
     "name": "stdout",
     "output_type": "stream",
     "text": [
      "[NeMo I 2022-10-03 18:36:08 features:223] PADDING: 16\n",
      "[NeMo I 2022-10-03 18:36:09 label_models:102] loss is Angular Softmax\n",
      "[NeMo I 2022-10-03 18:36:09 save_restore_connector:243] Model EncDecSpeakerLabelModel was successfully restored from /root/.cache/torch/NeMo/NeMo_1.12.0rc0/titanet-l/492c0ab8416139171dc18c21879a9e45/titanet-l.nemo.\n",
      "[NeMo I 2022-10-03 18:36:09 modelPT:974] Model checkpoint partially restored from pretrained checkpoint with name `titanet_large`\n",
      "[NeMo I 2022-10-03 18:36:09 modelPT:976] The following parameters were excluded from loading from pretrained checkpoint with name `titanet_large` : ['decoder.final.weight']\n",
      "[NeMo I 2022-10-03 18:36:09 modelPT:979] Make sure that this is what you wanted!\n"
     ]
    }
   ],
   "source": [
    "# Download pretrained model from NGC.\n",
    "speaker_model.maybe_init_from_pretrained_checkpoint(finetune_config)"
   ]
  },
  {
   "cell_type": "markdown",
   "metadata": {},
   "source": [
    "### Execute finetuning.\n",
    "\n",
    "In the config, we keep weights of preprocessor and encoder, and attach a new decoder as mentioned in above section to match num of classes of new data"
   ]
  },
  {
   "cell_type": "code",
   "execution_count": 65,
   "metadata": {},
   "outputs": [
    {
     "name": "stderr",
     "output_type": "stream",
     "text": [
      "LOCAL_RANK: 0 - CUDA_VISIBLE_DEVICES: [0,1,2,3]\n"
     ]
    },
    {
     "name": "stdout",
     "output_type": "stream",
     "text": [
      "[NeMo I 2022-10-03 18:36:13 modelPT:597] Optimizer config = AdamW (\n",
      "    Parameter Group 0\n",
      "        amsgrad: False\n",
      "        betas: (0.9, 0.999)\n",
      "        capturable: False\n",
      "        eps: 1e-08\n",
      "        foreach: None\n",
      "        lr: 0.0001\n",
      "        maximize: False\n",
      "        weight_decay: 0.0002\n",
      "    )\n",
      "[NeMo I 2022-10-03 18:36:13 lr_scheduler:910] Scheduler \"<nemo.core.optim.lr_scheduler.CosineAnnealing object at 0x7f10b4505730>\" \n",
      "    will be used during training (effective maximum steps = 570) - \n",
      "    Parameters : \n",
      "    (warmup_ratio: 0.1\n",
      "    min_lr: 0.0\n",
      "    max_steps: 570\n",
      "    )\n"
     ]
    },
    {
     "name": "stderr",
     "output_type": "stream",
     "text": [
      "\n",
      "  | Name            | Type                              | Params\n",
      "----------------------------------------------------------------------\n",
      "0 | preprocessor    | AudioToMelSpectrogramPreprocessor | 0     \n",
      "1 | encoder         | ConvASREncoder                    | 19.4 M\n",
      "2 | decoder         | SpeakerDecoder                    | 2.8 M \n",
      "3 | loss            | AngularSoftmaxLoss                | 0     \n",
      "4 | _accuracy       | TopKClassificationAccuracy        | 0     \n",
      "5 | _macro_accuracy | Accuracy                          | 0     \n",
      "6 | _auroc          | AUROC                             | 0     \n",
      "----------------------------------------------------------------------\n",
      "22.1 M    Trainable params\n",
      "0         Non-trainable params\n",
      "22.1 M    Total params\n",
      "88.498    Total estimated model params size (MB)\n"
     ]
    },
    {
     "data": {
      "application/json": {
       "ascii": false,
       "bar_format": null,
       "colour": null,
       "elapsed": 0.015859365463256836,
       "initial": 0,
       "n": 0,
       "ncols": null,
       "nrows": null,
       "postfix": null,
       "prefix": "Sanity Checking",
       "rate": null,
       "total": null,
       "unit": "it",
       "unit_divisor": 1000,
       "unit_scale": false
      },
      "application/vnd.jupyter.widget-view+json": {
       "model_id": "2ffff303a99c4fbaa62807d42bfb79ff",
       "version_major": 2,
       "version_minor": 0
      },
      "text/plain": [
       "Sanity Checking: 0it [00:00, ?it/s]"
      ]
     },
     "metadata": {},
     "output_type": "display_data"
    },
    {
     "name": "stderr",
     "output_type": "stream",
     "text": [
      "[NeMo W 2022-10-03 18:36:13 nemo_logging:349] /opt/conda/lib/python3.8/site-packages/pytorch_lightning/trainer/connectors/data_connector.py:236: PossibleUserWarning: The dataloader, val_dataloader 0, does not have many workers which may be a bottleneck. Consider increasing the value of the `num_workers` argument` (try 96 which is the number of cpus on this machine) in the `DataLoader` init to improve performance.\n",
      "      rank_zero_warn(\n",
      "    \n",
      "[NeMo W 2022-10-03 18:36:14 nemo_logging:349] /opt/conda/lib/python3.8/site-packages/torchmetrics/utilities/prints.py:36: UserWarning: No positive samples in targets, true positive value should be meaningless. Returning zero tensor in true positive score\n",
      "      warnings.warn(*args, **kwargs)\n",
      "    \n"
     ]
    },
    {
     "name": "stdout",
     "output_type": "stream",
     "text": [
      "[NeMo I 2022-10-03 18:36:14 label_models:353] val_loss: 12.251\n"
     ]
    },
    {
     "name": "stderr",
     "output_type": "stream",
     "text": [
      "[NeMo W 2022-10-03 18:36:14 nemo_logging:349] /opt/conda/lib/python3.8/site-packages/pytorch_lightning/trainer/connectors/data_connector.py:236: PossibleUserWarning: The dataloader, train_dataloader, does not have many workers which may be a bottleneck. Consider increasing the value of the `num_workers` argument` (try 96 which is the number of cpus on this machine) in the `DataLoader` init to improve performance.\n",
      "      rank_zero_warn(\n",
      "    \n"
     ]
    },
    {
     "data": {
      "application/json": {
       "ascii": false,
       "bar_format": null,
       "colour": null,
       "elapsed": 0.015060663223266602,
       "initial": 0,
       "n": 0,
       "ncols": null,
       "nrows": null,
       "postfix": null,
       "prefix": "Training",
       "rate": null,
       "total": null,
       "unit": "it",
       "unit_divisor": 1000,
       "unit_scale": false
      },
      "application/vnd.jupyter.widget-view+json": {
       "model_id": "464e141bea1e4916b991eca2b5e83946",
       "version_major": 2,
       "version_minor": 0
      },
      "text/plain": [
       "Training: 0it [00:00, ?it/s]"
      ]
     },
     "metadata": {},
     "output_type": "display_data"
    },
    {
     "data": {
      "application/json": {
       "ascii": false,
       "bar_format": null,
       "colour": null,
       "elapsed": 0.01859140396118164,
       "initial": 0,
       "n": 0,
       "ncols": null,
       "nrows": null,
       "postfix": null,
       "prefix": "Validation",
       "rate": null,
       "total": null,
       "unit": "it",
       "unit_divisor": 1000,
       "unit_scale": false
      },
      "application/vnd.jupyter.widget-view+json": {
       "model_id": "31112ca39097454db18b2353c5489fe1",
       "version_major": 2,
       "version_minor": 0
      },
      "text/plain": [
       "Validation: 0it [00:00, ?it/s]"
      ]
     },
     "metadata": {},
     "output_type": "display_data"
    },
    {
     "name": "stdout",
     "output_type": "stream",
     "text": [
      "[NeMo I 2022-10-03 18:36:58 label_models:353] val_loss: 6.887\n"
     ]
    },
    {
     "name": "stderr",
     "output_type": "stream",
     "text": [
      "Epoch 0, global step 114: 'val_loss' reached 6.88683 (best 6.88683), saving model to '/workspace/nemo_experiments/FAE-titaNet-finetune-CV/2022-10-03_18-18-31/checkpoints/FAE-titaNet-finetune-CV--val_loss=6.8868-epoch=0.ckpt' as top 3\n"
     ]
    },
    {
     "data": {
      "application/json": {
       "ascii": false,
       "bar_format": null,
       "colour": null,
       "elapsed": 0.018132448196411133,
       "initial": 0,
       "n": 0,
       "ncols": null,
       "nrows": null,
       "postfix": null,
       "prefix": "Validation",
       "rate": null,
       "total": null,
       "unit": "it",
       "unit_divisor": 1000,
       "unit_scale": false
      },
      "application/vnd.jupyter.widget-view+json": {
       "model_id": "0e6280acc8744469b84cca6ba54efab2",
       "version_major": 2,
       "version_minor": 0
      },
      "text/plain": [
       "Validation: 0it [00:00, ?it/s]"
      ]
     },
     "metadata": {},
     "output_type": "display_data"
    },
    {
     "name": "stdout",
     "output_type": "stream",
     "text": [
      "[NeMo I 2022-10-03 18:38:00 label_models:353] val_loss: 6.670\n"
     ]
    },
    {
     "name": "stderr",
     "output_type": "stream",
     "text": [
      "Epoch 1, global step 228: 'val_loss' reached 6.66993 (best 6.66993), saving model to '/workspace/nemo_experiments/FAE-titaNet-finetune-CV/2022-10-03_18-18-31/checkpoints/FAE-titaNet-finetune-CV--val_loss=6.6699-epoch=1.ckpt' as top 3\n"
     ]
    },
    {
     "data": {
      "application/json": {
       "ascii": false,
       "bar_format": null,
       "colour": null,
       "elapsed": 0.01739788055419922,
       "initial": 0,
       "n": 0,
       "ncols": null,
       "nrows": null,
       "postfix": null,
       "prefix": "Validation",
       "rate": null,
       "total": null,
       "unit": "it",
       "unit_divisor": 1000,
       "unit_scale": false
      },
      "application/vnd.jupyter.widget-view+json": {
       "model_id": "fccc94deaf7e4e6fbe99575228114474",
       "version_major": 2,
       "version_minor": 0
      },
      "text/plain": [
       "Validation: 0it [00:00, ?it/s]"
      ]
     },
     "metadata": {},
     "output_type": "display_data"
    },
    {
     "name": "stdout",
     "output_type": "stream",
     "text": [
      "[NeMo I 2022-10-03 18:39:02 label_models:353] val_loss: 6.982\n"
     ]
    },
    {
     "name": "stderr",
     "output_type": "stream",
     "text": [
      "Epoch 2, global step 342: 'val_loss' reached 6.98179 (best 6.66993), saving model to '/workspace/nemo_experiments/FAE-titaNet-finetune-CV/2022-10-03_18-18-31/checkpoints/FAE-titaNet-finetune-CV--val_loss=6.9818-epoch=2.ckpt' as top 3\n"
     ]
    },
    {
     "data": {
      "application/json": {
       "ascii": false,
       "bar_format": null,
       "colour": null,
       "elapsed": 0.015688180923461914,
       "initial": 0,
       "n": 0,
       "ncols": null,
       "nrows": null,
       "postfix": null,
       "prefix": "Validation",
       "rate": null,
       "total": null,
       "unit": "it",
       "unit_divisor": 1000,
       "unit_scale": false
      },
      "application/vnd.jupyter.widget-view+json": {
       "model_id": "e797aecb696c40fa9a41fc269851d5f3",
       "version_major": 2,
       "version_minor": 0
      },
      "text/plain": [
       "Validation: 0it [00:00, ?it/s]"
      ]
     },
     "metadata": {},
     "output_type": "display_data"
    },
    {
     "name": "stdout",
     "output_type": "stream",
     "text": [
      "[NeMo I 2022-10-03 18:39:55 label_models:353] val_loss: 6.947\n"
     ]
    },
    {
     "name": "stderr",
     "output_type": "stream",
     "text": [
      "Epoch 3, global step 456: 'val_loss' reached 6.94669 (best 6.66993), saving model to '/workspace/nemo_experiments/FAE-titaNet-finetune-CV/2022-10-03_18-18-31/checkpoints/FAE-titaNet-finetune-CV--val_loss=6.9467-epoch=3.ckpt' as top 3\n"
     ]
    },
    {
     "data": {
      "application/json": {
       "ascii": false,
       "bar_format": null,
       "colour": null,
       "elapsed": 0.01696014404296875,
       "initial": 0,
       "n": 0,
       "ncols": null,
       "nrows": null,
       "postfix": null,
       "prefix": "Validation",
       "rate": null,
       "total": null,
       "unit": "it",
       "unit_divisor": 1000,
       "unit_scale": false
      },
      "application/vnd.jupyter.widget-view+json": {
       "model_id": "8e4b3e945d51461a9bfd8d226a77787d",
       "version_major": 2,
       "version_minor": 0
      },
      "text/plain": [
       "Validation: 0it [00:00, ?it/s]"
      ]
     },
     "metadata": {},
     "output_type": "display_data"
    },
    {
     "name": "stdout",
     "output_type": "stream",
     "text": [
      "[NeMo I 2022-10-03 18:40:55 label_models:353] val_loss: 6.976\n"
     ]
    },
    {
     "name": "stderr",
     "output_type": "stream",
     "text": [
      "Epoch 4, global step 570: 'val_loss' was not in top 3\n",
      "`Trainer.fit` stopped: `max_epochs=5` reached.\n"
     ]
    }
   ],
   "source": [
    "trainer_finetune.fit(speaker_model)"
   ]
  },
  {
   "cell_type": "markdown",
   "metadata": {},
   "source": [
    "---\n",
    "### Saving .nemo file\n",
    "Now we can save the whole config and model parameters in a single .nemo and we can anytime restore from it"
   ]
  },
  {
   "cell_type": "code",
   "execution_count": 66,
   "metadata": {},
   "outputs": [],
   "source": [
    "model_nemo_path = os.path.join(log_dir_finetune, \"titanet_fae-cv22-finetune.nemo\")\n",
    "latest_model_nemo_path = os.path.join(log_dir_finetune, '..', \"titanet_fae-cv22-finetune.nemo\")"
   ]
  },
  {
   "cell_type": "code",
   "execution_count": 67,
   "metadata": {},
   "outputs": [],
   "source": [
    "speaker_model.save_to(model_nemo_path)\n",
    "speaker_model.save_to(latest_model_nemo_path)"
   ]
  },
  {
   "cell_type": "markdown",
   "metadata": {},
   "source": [
    "---\n",
    "## Visualize Embeddings with TensorBoard Projector\n",
    "#### Task: Foreign Accent English classification\n",
    "#### Corpus: FAE-CV22\n",
    "#### Model: TitaNet"
   ]
  },
  {
   "cell_type": "markdown",
   "metadata": {},
   "source": [
    "### Import modules."
   ]
  },
  {
   "cell_type": "code",
   "execution_count": 68,
   "metadata": {},
   "outputs": [],
   "source": [
    "# We need to install tensorflow to generate data to visualize the embedding space.\n",
    "try:\n",
    "    import tensorflow\n",
    "except:\n",
    "    %pip install tensorflow"
   ]
  },
  {
   "cell_type": "code",
   "execution_count": 69,
   "metadata": {},
   "outputs": [],
   "source": [
    "import warnings\n",
    "\n",
    "warnings.simplefilter(action=\"ignore\", category=FutureWarning)\n",
    "import datetime\n",
    "import os\n",
    "import json\n",
    "from collections import OrderedDict\n",
    "import numpy as np\n",
    "import pandas as pd\n",
    "from sklearn.metrics import confusion_matrix, ConfusionMatrixDisplay\n",
    "from tqdm import tqdm\n",
    "from omegaconf import OmegaConf\n",
    "from nemo.collections.asr.models import EncDecSpeakerLabelModel\n",
    "from matplotlib import pyplot as plt\n",
    "import torch\n",
    "import pytorch_lightning as pl\n",
    "from torch.utils.tensorboard import SummaryWriter\n",
    "import tensorflow as tf\n",
    "import tensorboard as tb\n",
    "\n",
    "tf.io.gfile = tb.compat.tensorflow_stub.io.gfile"
   ]
  },
  {
   "cell_type": "markdown",
   "metadata": {},
   "source": [
    "---\n",
    "### Load Speaker-Accent Model and Manifest files."
   ]
  },
  {
   "cell_type": "code",
   "execution_count": 70,
   "metadata": {},
   "outputs": [],
   "source": [
    "#ROOT = os.getcwd()\n",
    "#if os.path.exists(os.path.join(ROOT, 'drive', 'MyDrive')):\n",
    "#  ROOT = os.path.join(ROOT, 'drive', 'MyDrive')\n",
    "#data_dir = os.path.join(ROOT, \"data\")\n",
    "#log_dir_finetune = '/workspace/nemo_experiments/FAE-finetune-CV'\n",
    "#model_nemo_path = os.path.join(log_dir_finetune, '..', \"ecapa_fae-cv22-finetune.nemo\")\n",
    "\n",
    "train_manifest = os.path.join(data_dir,'manifest-train.json')\n",
    "validation_manifest = os.path.join(data_dir,'manifest-dev.json')\n",
    "test_manifest = os.path.join(data_dir,'manifest-test.json')\n",
    "eval_manifest = os.path.join(data_dir,'manifest-eval.json')\n",
    "\n",
    "# Model\n",
    "model_nemo_path = model_nemo_path\n",
    "#\n",
    "# Data manifests\n",
    "test_manifest_filepath = test_manifest\n",
    "eval_manifest_filepath = eval_manifest\n",
    "enroll_manifest_filepath = train_manifest"
   ]
  },
  {
   "cell_type": "code",
   "execution_count": 71,
   "metadata": {},
   "outputs": [],
   "source": [
    "# Define In/Out filepaths\n",
    "# Select below as needed.\n",
    "#\n",
    "conf = OmegaConf.create()\n",
    "conf[\"data\"] = {}\n",
    "# IN:\n",
    "test_title = f'{model_nemo_path.split(\"/\")[-1]}\\n{os.path.basename(test_manifest_filepath)}'\n",
    "conf.data[\"test\"] = dict(\\\n",
    "    manifest_path=test_manifest_filepath, \\\n",
    "    title=test_title\n",
    "    )\n",
    "#\n",
    "eval_title = f'{model_nemo_path.split(\"/\")[-1]}\\n{os.path.basename(eval_manifest_filepath)}'\n",
    "conf.data[\"eval\"] = dict(\\\n",
    "    manifest_path=eval_manifest_filepath,\n",
    "    title=eval_title\n",
    "    )\n",
    "#\n",
    "enroll_title = f'{model_nemo_path.split(\"/\")[-1]}\\n{os.path.basename(enroll_manifest_filepath)}'\n",
    "conf.data['enroll'] = dict(\\\n",
    "    manifest_path=enroll_manifest_filepath,\n",
    "    title=enroll_title\n",
    "    )"
   ]
  },
  {
   "cell_type": "code",
   "execution_count": 72,
   "metadata": {},
   "outputs": [
    {
     "name": "stdout",
     "output_type": "stream",
     "text": [
      "data:\n",
      "  test:\n",
      "    manifest_path: data/manifest-test.json\n",
      "    title: 'titanet_fae-cv22-finetune.nemo\n",
      "\n",
      "      manifest-test.json'\n",
      "  eval:\n",
      "    manifest_path: data/manifest-eval.json\n",
      "    title: 'titanet_fae-cv22-finetune.nemo\n",
      "\n",
      "      manifest-eval.json'\n",
      "  enroll:\n",
      "    manifest_path: data/manifest-train.json\n",
      "    title: 'titanet_fae-cv22-finetune.nemo\n",
      "\n",
      "      manifest-train.json'\n",
      "\n"
     ]
    }
   ],
   "source": [
    "print(OmegaConf.to_yaml(conf))"
   ]
  },
  {
   "cell_type": "markdown",
   "metadata": {},
   "source": [
    "---\n",
    "\n",
    "### Extract Embeddings"
   ]
  },
  {
   "cell_type": "markdown",
   "metadata": {},
   "source": [
    "#### Get embeddings for the Test Set\n",
    "\n",
    "The test-set is the FAE-CV \"`test.tsv`\" file."
   ]
  },
  {
   "cell_type": "code",
   "execution_count": 74,
   "metadata": {},
   "outputs": [
    {
     "name": "stdout",
     "output_type": "stream",
     "text": [
      "[NeMo I 2022-10-03 18:42:12 collections:297] Filtered duration for loading collection is 0.000000.\n",
      "[NeMo I 2022-10-03 18:42:12 collections:301] # 916 files loaded accounting to # 11 labels\n"
     ]
    },
    {
     "name": "stderr",
     "output_type": "stream",
     "text": [
      "100%|██████████| 29/29 [00:01<00:00, 15.26it/s]\n"
     ]
    }
   ],
   "source": [
    "# STEP 2.1: Run Test.\n",
    "#\n",
    "MANIFEST_FILEPATH = conf.data.test.manifest_path\n",
    "accelerator = 'gpu' if torch.cuda.is_available() else 'cpu'\n",
    "\n",
    "#\n",
    "(\n",
    "    test_embs,\n",
    "    test_logits,\n",
    "    test_ref_labels,\n",
    "    test_idx2labD,\n",
    ") = EncDecSpeakerLabelModel.get_batch_embeddings(\n",
    "    speaker_model=speaker_model,\n",
    "    manifest_filepath=MANIFEST_FILEPATH,\n",
    "    batch_size=32,\n",
    "    sample_rate=16000,\n",
    "    device='cuda',\n",
    ")\n",
    "test_embs = test_embs / (np.linalg.norm(test_embs, ord=2, axis=-1, keepdims=True))"
   ]
  },
  {
   "cell_type": "markdown",
   "metadata": {},
   "source": [
    "#### Get embeddings for the Eval Set\n",
    "\n",
    "The eval-set is the FAE-CV \"`eval.tsv`\" file."
   ]
  },
  {
   "cell_type": "code",
   "execution_count": 75,
   "metadata": {},
   "outputs": [
    {
     "name": "stdout",
     "output_type": "stream",
     "text": [
      "[NeMo I 2022-10-03 18:42:17 collections:297] Filtered duration for loading collection is 0.000000.\n",
      "[NeMo I 2022-10-03 18:42:17 collections:301] # 388 files loaded accounting to # 11 labels\n"
     ]
    },
    {
     "name": "stderr",
     "output_type": "stream",
     "text": [
      "100%|██████████| 13/13 [00:00<00:00, 14.94it/s]\n"
     ]
    }
   ],
   "source": [
    "# STEP 2.1: Run Evaluation.\n",
    "#\n",
    "MANIFEST_FILEPATH = conf.data.eval.manifest_path\n",
    "\n",
    "#\n",
    "(\n",
    "    eval_embs,\n",
    "    eval_logits,\n",
    "    eval_ref_labels,\n",
    "    eval_idx2labD,\n",
    ") = EncDecSpeakerLabelModel.get_batch_embeddings(\n",
    "    speaker_model=speaker_model,\n",
    "    manifest_filepath=MANIFEST_FILEPATH,\n",
    "    batch_size=32,\n",
    "    sample_rate=16000,\n",
    "    device='cuda',\n",
    ")\n",
    "eval_embs = eval_embs / (np.linalg.norm(eval_embs, ord=2, axis=-1, keepdims=True))"
   ]
  },
  {
   "cell_type": "markdown",
   "metadata": {},
   "source": [
    "#### Get embeddings for the Enroll Set\n",
    "\n",
    "The enroll-set is the within class average of the FAE-CV \"`train.tsv`\" file."
   ]
  },
  {
   "cell_type": "code",
   "execution_count": 76,
   "metadata": {},
   "outputs": [
    {
     "name": "stdout",
     "output_type": "stream",
     "text": [
      "[NeMo I 2022-10-03 18:42:19 collections:297] Filtered duration for loading collection is 0.000000.\n",
      "[NeMo I 2022-10-03 18:42:19 collections:301] # 7272 files loaded accounting to # 11 labels\n"
     ]
    },
    {
     "name": "stderr",
     "output_type": "stream",
     "text": [
      "100%|██████████| 228/228 [00:15<00:00, 14.37it/s]\n"
     ]
    }
   ],
   "source": [
    "# Step 2.3\n",
    "MANIFEST_FILEPATH = conf.data.enroll.manifest_path\n",
    "\n",
    "(\n",
    "    enrol_embs, \n",
    "    enrol_logits, \n",
    "    enrol_ref_labels, \n",
    "    enrol_idx2labD,\n",
    ") = EncDecSpeakerLabelModel.get_batch_embeddings(\n",
    "    speaker_model=speaker_model, \n",
    "    manifest_filepath=MANIFEST_FILEPATH, \n",
    "    batch_size=32, \n",
    "    sample_rate=16000, \n",
    "    device='cuda',\n",
    ")\n",
    "# Note that embeddings are unit-vectors.\n",
    "enrol_embs = enrol_embs / (np.linalg.norm(enrol_embs, ord=2, axis=-1, keepdims=True))\n",
    "#\n",
    "centroidsL = []\n",
    "keyslist = list(eval_idx2labD.keys())\n",
    "for label_id in keyslist:\n",
    "    indices = np.where(enrol_ref_labels == label_id)\n",
    "    embedding = (enrol_embs[indices].sum(axis=0).squeeze()) / len(indices)\n",
    "    centroidsL.append(embedding)\n",
    "enrol_embs = np.asarray(centroidsL)\n",
    "# Project back to a hyper-sphere keeping them as unit-vectors\n",
    "enrol_embs = enrol_embs / (np.linalg.norm(enrol_embs, ord=2, axis=-1, keepdims=True))"
   ]
  },
  {
   "cell_type": "markdown",
   "metadata": {},
   "source": [
    "---\n",
    "\n",
    "### Create Embedding Visualization files\n",
    "\n",
    "We use the TensorBoard Projector\n"
   ]
  },
  {
   "cell_type": "code",
   "execution_count": 77,
   "metadata": {},
   "outputs": [],
   "source": [
    "# Switch this to True to bypass writting.\n",
    "DRY_RUN = False\n",
    "\n",
    "exp_dir = os.path.join(finetune_config.exp_manager.exp_dir, finetune_config.name)\n",
    "tstamp = datetime.datetime.now().isoformat().replace(\":\", \"-\")"
   ]
  },
  {
   "cell_type": "markdown",
   "metadata": {},
   "source": [
    "##### - Test Data Points (FAE-CV22 test.tsv)\n",
    "\n",
    "Create data file to visualize the embeddings from the `Test` Data."
   ]
  },
  {
   "cell_type": "code",
   "execution_count": 78,
   "metadata": {},
   "outputs": [],
   "source": [
    "# Gather vector data\n",
    "set = 'Test'\n",
    "vectors = test_embs\n",
    "metadata = [test_idx2labD[x] for x in test_ref_labels]"
   ]
  },
  {
   "cell_type": "code",
   "execution_count": 79,
   "metadata": {},
   "outputs": [
    {
     "name": "stdout",
     "output_type": "stream",
     "text": [
      "Wrote 916 embeddings in a 192-dim space.\n"
     ]
    }
   ],
   "source": [
    "# Create SummaryWritter\n",
    "logdir = f\"{exp_dir}/FAEcv22_embs{set}_{tstamp}\"\n",
    "if not DRY_RUN:\n",
    "    writer = SummaryWriter(logdir)\n",
    "    writer = SummaryWriter(logdir)\n",
    "    writer.add_embedding(vectors, metadata)\n",
    "    writer.close()\n",
    "print(f\"Wrote {vectors.shape[0]} embeddings in a {vectors.shape[1]}-dim space.\")"
   ]
  },
  {
   "cell_type": "markdown",
   "metadata": {},
   "source": [
    "##### - Eval Data Points  (FAE-CV22 eval.tsv)\n",
    "\n",
    "Create data file to visualize the embeddings from the `Eval` Data."
   ]
  },
  {
   "cell_type": "code",
   "execution_count": 80,
   "metadata": {},
   "outputs": [],
   "source": [
    "# Gather vector data\n",
    "set = 'Eval'\n",
    "vectors = eval_embs\n",
    "metadata = [eval_idx2labD[x] for x in eval_ref_labels]"
   ]
  },
  {
   "cell_type": "code",
   "execution_count": 81,
   "metadata": {},
   "outputs": [
    {
     "name": "stdout",
     "output_type": "stream",
     "text": [
      "Wrote 388 embeddings in a 192-dim space.\n"
     ]
    }
   ],
   "source": [
    "# Create SummaryWritter\n",
    "logdir = f\"{exp_dir}/FAEcv22_embs{set}_{tstamp}\"\n",
    "if not DRY_RUN:\n",
    "    writer = SummaryWriter(logdir)\n",
    "    writer = SummaryWriter(logdir)\n",
    "    writer.add_embedding(vectors, metadata)\n",
    "    writer.close()\n",
    "print(f\"Wrote {vectors.shape[0]} embeddings in a {vectors.shape[1]}-dim space.\")"
   ]
  },
  {
   "cell_type": "markdown",
   "metadata": {},
   "source": [
    "##### - Enroll Data Points  (FAE-CV22 averaged train.tsv)\n",
    "\n",
    "Create data file to visualize the embeddings from the `Enroll` Data."
   ]
  },
  {
   "cell_type": "code",
   "execution_count": 82,
   "metadata": {},
   "outputs": [],
   "source": [
    "# Gather vector data\n",
    "set = 'Enroll'\n",
    "vectors = enrol_embs\n",
    "metadata = [enrol_idx2labD[x] for x in keyslist]"
   ]
  },
  {
   "cell_type": "code",
   "execution_count": 83,
   "metadata": {},
   "outputs": [
    {
     "name": "stdout",
     "output_type": "stream",
     "text": [
      "Wrote 11 embeddings in a 192-dim space.\n"
     ]
    }
   ],
   "source": [
    "# Create SummaryWritter\n",
    "logdir = f\"{exp_dir}/FAEcv22_embs{set}_{tstamp}\"\n",
    "if not DRY_RUN:\n",
    "    writer = SummaryWriter(logdir)\n",
    "    writer = SummaryWriter(logdir)\n",
    "    writer.add_embedding(vectors, metadata)\n",
    "    writer.close()\n",
    "print(f\"Wrote {vectors.shape[0]} embeddings in a {vectors.shape[1]}-dim space.\")"
   ]
  },
  {
   "cell_type": "markdown",
   "metadata": {},
   "source": [
    "##### --> Open Tensorboard Projector to access the interactive visualization of Accent Embeddings."
   ]
  },
  {
   "cell_type": "markdown",
   "metadata": {},
   "source": [
    "---\n",
    "\n",
    "### Create Confussion Matrix\n",
    "\n",
    "Use the cosine score as similarity measure between an embedding and its enrolled prototype."
   ]
  },
  {
   "cell_type": "code",
   "execution_count": 84,
   "metadata": {},
   "outputs": [],
   "source": [
    "cos_sim_sco = np.matmul(test_embs, enrol_embs.T)\n",
    "hyp_labels = cos_sim_sco.argmax(axis=-1)"
   ]
  },
  {
   "cell_type": "code",
   "execution_count": 85,
   "metadata": {},
   "outputs": [
    {
     "data": {
      "image/png": "[encoded data removed]",
      "text/plain": [
       "<Figure size 720x720 with 2 Axes>"
      ]
     },
     "metadata": {
      "needs_background": "light"
     },
     "output_type": "display_data"
    }
   ],
   "source": [
    "# Confussion Matrix normalized.\n",
    "TITLE = f'Normalized\\n{conf.data.test.title}'\n",
    "cm = confusion_matrix(test_ref_labels, hyp_labels, normalize=\"true\")\n",
    "disp = ConfusionMatrixDisplay(confusion_matrix=cm, display_labels=test_idx2labD.values())\n",
    "f = disp.plot(xticks_rotation='vertical').ax_.set_title(TITLE);\n",
    "f.figure.set_size_inches(10,10)"
   ]
  },
  {
   "cell_type": "markdown",
   "metadata": {},
   "source": [
    "-----"
   ]
  },
  {
   "cell_type": "markdown",
   "metadata": {},
   "source": [
    "## Visualize Embedding Space with Tensorboard\n",
    "\n",
    "#### **Important**: \n",
    "\n",
    "* If running in Colab:\n",
    "  * Use Google Chrome web browser for Tensorboard to work properly.\n",
    "  * Once Tensorboard loads, hit the 'reload' ↺ button within Tensorboard to enable the `Projector`.\n",
    "* If running as a docker-container:\n",
    "  * Tensorboard is already listening to port `6006`. Simply point your web browser to the server host on that port.\n",
    "\n",
    "The cells below open Tensorboard within collab."
   ]
  }
 ],
 "metadata": {
  "kernelspec": {
   "display_name": "Python 3.8.13 ('base')",
   "language": "python",
   "name": "python3"
  },
  "language_info": {
   "codemirror_mode": {
    "name": "ipython",
    "version": 3
   },
   "file_extension": ".py",
   "mimetype": "text/x-python",
   "name": "python",
   "nbconvert_exporter": "python",
   "pygments_lexer": "ipython3",
   "version": "3.8.13"
  },
  "vscode": {
   "interpreter": {
    "hash": "d4d1e4263499bec80672ea0156c357c1ee493ec2b1c70f0acce89fc37c4a6abe"
   }
  }
 },
 "nbformat": 4,
 "nbformat_minor": 4
}
